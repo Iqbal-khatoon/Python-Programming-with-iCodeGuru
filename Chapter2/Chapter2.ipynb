{
  "nbformat": 4,
  "nbformat_minor": 0,
  "metadata": {
    "colab": {
      "name": "Chapter2.ipynb",
      "provenance": [],
      "collapsed_sections": []
    },
    "kernelspec": {
      "name": "python3",
      "display_name": "Python 3"
    }
  },
  "cells": [
    {
      "cell_type": "code",
      "metadata": {
        "id": "f72_O_NkuFyH",
        "colab": {
          "base_uri": "https://localhost:8080/"
        },
        "outputId": "74c01042-07f2-4dc9-eadc-884162d6a0d4"
      },
      "source": [
        "2.1#Learn about different comparison operators, how to combine them with Boolean operators, \n",
        "#and how to use the Boolean outcomes in control structures.\n",
        "#While loops are like repeated if statements, the for loop iterates over all kinds of data structures.\n",
        "\n",
        "##Comparison operators are used to compare two values:\n",
        "\n",
        "#   ==\t Equal\t\t\n",
        "#   !=\t Not equal\t\t\n",
        "#   >\t   Greater than\t\n",
        "#   <\t   Less than\t\t\n",
        "#   >=\t Greater than or equal to\t\t\n",
        "#   <=\t Less than or equal to"
      ],
      "execution_count": null,
      "outputs": [
        {
          "output_type": "execute_result",
          "data": {
            "text/plain": [
              "2.1"
            ]
          },
          "metadata": {
            "tags": []
          },
          "execution_count": 8
        }
      ]
    },
    {
      "cell_type": "markdown",
      "metadata": {
        "id": "sXrgCO7aFrQ1"
      },
      "source": [
        ""
      ]
    },
    {
      "cell_type": "code",
      "metadata": {
        "id": "6Iv0BAbQjVNR",
        "colab": {
          "base_uri": "https://localhost:8080/"
        },
        "outputId": "c0a67e71-6ff6-4997-e6e2-a42a4e32114b"
      },
      "source": [
        "# Comparison of booleans\n",
        "print(True == False)\n",
        "\n",
        "# Comparison of integers\n",
        "print(-5 * 15 != 75)\n",
        "\n",
        "# Comparison of strings\n",
        "print(\"pyscript\" == \"pyscript\")\n",
        "\n",
        "# Compare a boolean with an integer\n",
        "print(False == 0)"
      ],
      "execution_count": null,
      "outputs": [
        {
          "output_type": "stream",
          "text": [
            "False\n",
            "True\n",
            "True\n",
            "True\n"
          ],
          "name": "stdout"
        }
      ]
    },
    {
      "cell_type": "code",
      "metadata": {
        "id": "Nu-m1ZiDjc-f",
        "colab": {
          "base_uri": "https://localhost:8080/"
        },
        "outputId": "979291a7-99f4-426c-9145-0d28ded5baae"
      },
      "source": [
        "# Comparison of integers\n",
        "x = -3 * 6\n",
        "\n",
        "\n",
        "# Comparison of strings\n",
        "y = \"test\"\n",
        "\n",
        "\n",
        "# Comparison\n",
        "print(x > -18)\n",
        "print(x >= -18)\n",
        "print(\"test\" >= y)\n",
        "print(True < False)"
      ],
      "execution_count": null,
      "outputs": [
        {
          "output_type": "stream",
          "text": [
            "False\n",
            "True\n",
            "True\n",
            "False\n"
          ],
          "name": "stdout"
        }
      ]
    },
    {
      "cell_type": "code",
      "metadata": {
        "id": "SMj9ppFWjieH",
        "colab": {
          "base_uri": "https://localhost:8080/"
        },
        "outputId": "6dfcecd6-8b94-4955-f067-a650f51ab423"
      },
      "source": [
        "# Create arrays\n",
        "import numpy as np\n",
        "my_house = np.array([18.0, 20.0, 10.75, 9.50])\n",
        "your_house = np.array([14.0, 24.0, 14.25, 9.0])\n",
        "\n",
        "# my_house greater than or equal to 18\n",
        "print(my_house >= 18)\n",
        "\n",
        "# my_house less than your_house\n",
        "print(my_house < your_house)"
      ],
      "execution_count": null,
      "outputs": [
        {
          "output_type": "stream",
          "text": [
            "[ True  True False False]\n",
            "[False  True  True False]\n"
          ],
          "name": "stdout"
        }
      ]
    },
    {
      "cell_type": "markdown",
      "metadata": {
        "id": "EJBuErdWJ98a"
      },
      "source": [
        "##logical operators\r\n",
        "Logical operators are used to combine conditional statements:"
      ]
    },
    {
      "cell_type": "code",
      "metadata": {
        "id": "LQSsSKTzjy-2",
        "colab": {
          "base_uri": "https://localhost:8080/"
        },
        "outputId": "2cb1571d-65dc-4c4b-d81c-1e6060623d4e"
      },
      "source": [
        "# and == Returns True if both statements are true\n",
        "# or ==  Returns True if one of the statements is true\n",
        "# not == reverse result (return false if true)\n",
        "# Define variables\n",
        "my_kitchen = 18.0\n",
        "your_kitchen = 14.0\n",
        "\n",
        "\n",
        "# my_kitchen bigger than 10 and smaller than 18?\n",
        "print(my_kitchen > 10 and my_kitchen < 18)\n",
        "\n",
        "# my_kitchen smaller than 14 or bigger than 17?\n",
        "print(my_kitchen < 14 or my_kitchen > 17)\n",
        "\n",
        "# Double my_kitchen smaller than triple your_kitchen?\n",
        "print(my_kitchen * 2 < your_kitchen * 3)\n",
        "\n",
        "print(my_kitchen)"
      ],
      "execution_count": null,
      "outputs": [
        {
          "output_type": "stream",
          "text": [
            "False\n",
            "True\n",
            "True\n",
            "18.0\n"
          ],
          "name": "stdout"
        }
      ]
    },
    {
      "cell_type": "code",
      "metadata": {
        "id": "DWt-qQEBj09Y",
        "colab": {
          "base_uri": "https://localhost:8080/"
        },
        "outputId": "68f16cb6-51c3-4e6b-d95c-30be675eea9c"
      },
      "source": [
        "#logical_and() function. The logical_and() function is used \n",
        "#to compute the truth value of x1 AND x2 element-wise\n",
        "\n",
        "# Create arrays\n",
        "import numpy as np\n",
        "my_house = np.array([18.0, 20.0, 10.75, 9.50])\n",
        "your_house = np.array([14.0, 24.0, 14.25, 9.0])\n",
        "\n",
        "# my_house greater than 18.5 or smaller than 10\n",
        "print(np.logical_or(my_house > 18.5, my_house < 10))\n",
        "\n",
        "# Both my_house and your_house smaller than 11\n",
        "print(np.logical_and(my_house < 11, your_house < 11))"
      ],
      "execution_count": null,
      "outputs": [
        {
          "output_type": "stream",
          "text": [
            "[False  True False  True]\n",
            "[False False False  True]\n"
          ],
          "name": "stdout"
        }
      ]
    },
    {
      "cell_type": "code",
      "metadata": {
        "id": "-kUwYpAYkGXX",
        "colab": {
          "base_uri": "https://localhost:8080/"
        },
        "outputId": "6d917567-d1c7-4d82-992e-63d31503b9f6"
      },
      "source": [
        "# Define variables\n",
        "room = \"kit\"\n",
        "area = 14.0\n",
        "\n",
        "# if statement for room\n",
        "if room == \"kit\" :\n",
        "    print(\"looking around in the kitchen.\")\n",
        "\n",
        "# if statement for area\n",
        "if area > 12:\n",
        "    print(\"big place!\")"
      ],
      "execution_count": null,
      "outputs": [
        {
          "output_type": "stream",
          "text": [
            "looking around in the kitchen.\n",
            "big place!\n"
          ],
          "name": "stdout"
        }
      ]
    },
    {
      "cell_type": "code",
      "metadata": {
        "id": "9mB8l6bSkJ7u",
        "colab": {
          "base_uri": "https://localhost:8080/"
        },
        "outputId": "2416e55b-a9be-4b71-b5bb-a1bd4ac6250d"
      },
      "source": [
        "# Define variables\n",
        "room = \"kit\"\n",
        "area = 14.0\n",
        "\n",
        "# if-else construct for room\n",
        "if room == \"kit\" :\n",
        "    print(\"looking around in the kitchen.\")\n",
        "else :\n",
        "    print(\"looking around elsewhere.\")\n",
        "\n",
        "# if-else construct for area\n",
        "if area > 15 :\n",
        "    print(\"big place!\")\n",
        "else :\n",
        "    print(\"pretty small.\")"
      ],
      "execution_count": null,
      "outputs": [
        {
          "output_type": "stream",
          "text": [
            "looking around in the kitchen.\n",
            "pretty small.\n"
          ],
          "name": "stdout"
        }
      ]
    },
    {
      "cell_type": "code",
      "metadata": {
        "colab": {
          "base_uri": "https://localhost:8080/"
        },
        "id": "spx0sEKMLX0y",
        "outputId": "50a4109a-bd5b-4a23-ff12-e96c6b80eb29"
      },
      "source": [
        "#The elif keyword is python's way of saying \"if the previous conditions were not true, then try this condition\".\r\n",
        "#The else keyword catches anything which isn't caught by the preceding conditions\r\n",
        "\r\n",
        "length='n'\r\n",
        "if length=='n':\r\n",
        "  print('you found the answer')\r\n",
        "elif length=='yes':\r\n",
        "  print('still not there')\r\n",
        "else:\r\n",
        "  print('try again')"
      ],
      "execution_count": null,
      "outputs": [
        {
          "output_type": "stream",
          "text": [
            "you found the answer\n"
          ],
          "name": "stdout"
        }
      ]
    },
    {
      "cell_type": "code",
      "metadata": {
        "id": "nR5cq5mLkNaU",
        "colab": {
          "base_uri": "https://localhost:8080/"
        },
        "outputId": "d150b983-ced2-4ffe-cb68-9f41b8b040e3"
      },
      "source": [
        "# Define variables\n",
        "room = \"bed\"\n",
        "area = 14.0\n",
        "\n",
        "# if-elif-else construct for room\n",
        "if room == \"kit\" :\n",
        "    print(\"looking around in the kitchen.\")\n",
        "elif room == \"kkit\":\n",
        "    print(\"looking around in the bedroom.\")\n",
        "else :\n",
        "    print(\"looking around elsewhere.\")\n",
        "\n",
        "# if-elif-else construct for area\n",
        "if area > 15 :\n",
        "    print(\"big place!\")\n",
        "elif area > 10 :\n",
        "    print(\"medium size, nice!\")\n",
        "else :\n",
        "    print(\"pretty small.\")\n"
      ],
      "execution_count": null,
      "outputs": [
        {
          "output_type": "stream",
          "text": [
            "looking around elsewhere.\n",
            "medium size, nice!\n"
          ],
          "name": "stdout"
        }
      ]
    },
    {
      "cell_type": "code",
      "metadata": {
        "colab": {
          "base_uri": "https://localhost:8080/"
        },
        "id": "biJAfOmfQ7Wh",
        "outputId": "90c4836e-4bd1-42cc-f786-61254bf9d023"
      },
      "source": [
        "#while loop: With the while loop we can execute a set of statements as long as a condition is true.\r\n",
        "\r\n",
        "#Print i as long as i is less than 10:\r\n",
        "\r\n",
        "i = 1\r\n",
        "while i < 10:\r\n",
        "  print(i)\r\n",
        "  i += 1\r\n"
      ],
      "execution_count": null,
      "outputs": [
        {
          "output_type": "stream",
          "text": [
            "1\n",
            "2\n",
            "3\n",
            "4\n",
            "5\n",
            "6\n",
            "7\n",
            "8\n",
            "9\n"
          ],
          "name": "stdout"
        }
      ]
    },
    {
      "cell_type": "code",
      "metadata": {
        "colab": {
          "base_uri": "https://localhost:8080/"
        },
        "id": "F4r9zJ8sR5Ho",
        "outputId": "5e9da2fa-5da6-46e4-cff3-2ac05795d019"
      },
      "source": [
        "i = 1\r\n",
        "while i < 10:\r\n",
        "  print(i)\r\n",
        "  if (i == 3):\r\n",
        "    break\r\n",
        "  i += 1"
      ],
      "execution_count": null,
      "outputs": [
        {
          "output_type": "stream",
          "text": [
            "1\n",
            "2\n",
            "3\n"
          ],
          "name": "stdout"
        }
      ]
    },
    {
      "cell_type": "code",
      "metadata": {
        "id": "k--bNACTvF9O",
        "colab": {
          "base_uri": "https://localhost:8080/"
        },
        "outputId": "0e6f76a0-7772-43b3-a103-1702c4cd05ff"
      },
      "source": [
        "# Initialize offset\n",
        "offset = 2\n",
        "\n",
        "# Code the while loop\n",
        "while offset != 0:\n",
        "    print(\"correcting...\")\n",
        "    offset = offset - 1\n",
        "    print(offset)"
      ],
      "execution_count": null,
      "outputs": [
        {
          "output_type": "stream",
          "text": [
            "correcting...\n",
            "1\n",
            "correcting...\n",
            "0\n"
          ],
          "name": "stdout"
        }
      ]
    },
    {
      "cell_type": "code",
      "metadata": {
        "id": "aJeE6Ma1vW83",
        "colab": {
          "base_uri": "https://localhost:8080/"
        },
        "outputId": "592e6e03-497b-46a4-fb4e-ff443e53bade"
      },
      "source": [
        "# Initialize offset\n",
        "offset = -4\n",
        "\n",
        "# Code the while loop\n",
        "while offset != 0 :\n",
        "    print(\"correcting...\")\n",
        "    if offset > 0 :\n",
        "      offset = offset - 1\n",
        "    else : \n",
        "      offset = offset + 1   \n",
        "    print(offset)"
      ],
      "execution_count": null,
      "outputs": [
        {
          "output_type": "stream",
          "text": [
            "correcting...\n",
            "-3\n",
            "correcting...\n",
            "-2\n",
            "correcting...\n",
            "-1\n",
            "correcting...\n",
            "0\n"
          ],
          "name": "stdout"
        }
      ]
    },
    {
      "cell_type": "code",
      "metadata": {
        "id": "xlgwputnvm9O",
        "colab": {
          "base_uri": "https://localhost:8080/"
        },
        "outputId": "4deed4f0-b717-46bf-fd1a-3e8b0af9c9fc"
      },
      "source": [
        "\n",
        "# areas list\n",
        "areas = [11.25, 18.0, 20.0, 10.75, 9.50]\n",
        "\n",
        "# Change for loop to use enumerate() and update print()\n",
        "for a in areas :\n",
        "    print(a)"
      ],
      "execution_count": null,
      "outputs": [
        {
          "output_type": "stream",
          "text": [
            "11.25\n",
            "18.0\n",
            "20.0\n",
            "10.75\n",
            "9.5\n"
          ],
          "name": "stdout"
        }
      ]
    },
    {
      "cell_type": "code",
      "metadata": {
        "id": "HFkcos0FvpoW",
        "colab": {
          "base_uri": "https://localhost:8080/"
        },
        "outputId": "0342e0d8-276e-4660-814e-776fa8a6aaa2"
      },
      "source": [
        "#we get a need to keep a count of iterations. \n",
        "#areas list\n",
        "areas = [11.25, 18.0, 20.0, 10.75, 9.50]\n",
        "\n",
        "# Code the for loop\n",
        "for index, area in enumerate(areas, 100) :\n",
        "    print(\"room \" + str(index) + \": \" + str(area))\n",
        "    "
      ],
      "execution_count": null,
      "outputs": [
        {
          "output_type": "stream",
          "text": [
            "room 100: 11.25\n",
            "room 101: 18.0\n",
            "room 102: 20.0\n",
            "room 103: 10.75\n",
            "room 104: 9.5\n"
          ],
          "name": "stdout"
        }
      ]
    },
    {
      "cell_type": "code",
      "metadata": {
        "id": "dFUaQYeuvtoh",
        "colab": {
          "base_uri": "https://localhost:8080/"
        },
        "outputId": "a7f71261-5ce7-445a-8a8d-3753be1f856c"
      },
      "source": [
        "# house list of lists\n",
        "house = [[\"hallway\", 11.25], \n",
        "         [\"kitchen\", 18.0], \n",
        "         [\"living room\", 20.0], \n",
        "         [\"bedroom\", 10.75], \n",
        "         [\"bathroom\", 9.50]]\n",
        "         \n",
        "# Build a for loop from scratch\n",
        "for myroom in house :\n",
        "    print(\"the \" + myroom[0] + \" is \" + str(myroom[1]) + \" sqm\")"
      ],
      "execution_count": null,
      "outputs": [
        {
          "output_type": "stream",
          "text": [
            "the hallway is 11.25 sqm\n",
            "the kitchen is 18.0 sqm\n",
            "the living room is 20.0 sqm\n",
            "the bedroom is 10.75 sqm\n",
            "the bathroom is 9.5 sqm\n"
          ],
          "name": "stdout"
        }
      ]
    },
    {
      "cell_type": "code",
      "metadata": {
        "id": "KfnStfDz91Ux"
      },
      "source": [
        "#2.2 == Dictionaries & Pandas\r\n",
        "#Learn about the dictionary, an alternative to the Python list, \r\n",
        "#and the pandas DataFrame, the de facto standard to work with tabular data in Python"
      ],
      "execution_count": null,
      "outputs": []
    },
    {
      "cell_type": "code",
      "metadata": {
        "id": "hE5qVJ0LVy4s",
        "colab": {
          "base_uri": "https://localhost:8080/"
        },
        "outputId": "4a861edc-39cd-4148-9403-26f2c30b8e05"
      },
      "source": [
        "#motivation for dictionary\n",
        "\n",
        "#Definition of countries and capital\n",
        "countries = ['spain', 'france', 'germany', 'norway']\n",
        "capitals = ['madrid', 'paris', 'berlin', 'oslo']\n",
        "\n",
        "# Get index of 'germany': ind_ger\n",
        "ind_ger = countries[1]\n",
        "print(ind_ger)\n",
        "# Use ind_ger to print out capital of Germany\n",
        "print(capitals[1])"
      ],
      "execution_count": null,
      "outputs": [
        {
          "output_type": "stream",
          "text": [
            "france\n",
            "paris\n"
          ],
          "name": "stdout"
        }
      ]
    },
    {
      "cell_type": "code",
      "metadata": {
        "id": "VO8HULFpV9hN",
        "colab": {
          "base_uri": "https://localhost:8080/"
        },
        "outputId": "5e61ca70-63e2-45f4-be5c-90ecc72e4e18"
      },
      "source": [
        "# Definition of countries and capital\n",
        "countries = ['spain', 'france', 'germany', 'norway']\n",
        "capitals = ['madrid', 'paris', 'berlin', 'oslo']\n",
        "\n",
        "# From string in countries and capitals, create dictionary europe\n",
        "europe = { 'spain':'madrid', 'france':'paris', 'germany':'berlin', 'norway':'oslo'}\n",
        "\n",
        "# Print europe\n",
        "print(europe)"
      ],
      "execution_count": null,
      "outputs": [
        {
          "output_type": "stream",
          "text": [
            "{'spain': 'madrid', 'france': 'paris', 'germany': 'berlin', 'norway': 'oslo'}\n"
          ],
          "name": "stdout"
        }
      ]
    },
    {
      "cell_type": "code",
      "metadata": {
        "id": "WYg2beG2WygQ",
        "colab": {
          "base_uri": "https://localhost:8080/"
        },
        "outputId": "cd58b539-a0a3-486e-e1f5-9792e1d6e22d"
      },
      "source": [
        "# Definition of dictionary\n",
        "europe = {'spain':'madrid', 'france':'paris', 'germany':'berlin', 'norway':'oslo' }\n",
        "\n",
        "# Print out the keys in europe\n",
        "print(europe.keys())\n",
        "\n",
        "# Print out value that belongs to key 'norway'\n",
        "print(europe['norway'])"
      ],
      "execution_count": null,
      "outputs": [
        {
          "output_type": "stream",
          "text": [
            "dict_keys(['spain', 'france', 'germany', 'norway'])\n",
            "oslo\n"
          ],
          "name": "stdout"
        }
      ]
    },
    {
      "cell_type": "code",
      "metadata": {
        "id": "3U-rG4UJW6TA",
        "colab": {
          "base_uri": "https://localhost:8080/"
        },
        "outputId": "025258fc-4638-403f-b25b-cb1af7d77f8c"
      },
      "source": [
        "# Definition of dictionary\n",
        "europe = {'spain':'madrid', 'france':'paris', 'germany':'berlin', 'norway':'oslo' }\n",
        "\n",
        "# Add italy to europe\n",
        "europe['italy']='rome'\n",
        "\n",
        "# Print out italy in europe\n",
        "print('italy' in europe)\n",
        "\n",
        "# Add poland to europe\n",
        "europe['poland']='warsaw'\n",
        "\n",
        "\n",
        "\n",
        "# Print europe\n",
        "print(europe)"
      ],
      "execution_count": null,
      "outputs": [
        {
          "output_type": "stream",
          "text": [
            "True\n",
            "{'spain': 'madrid', 'france': 'paris', 'germany': 'berlin', 'norway': 'oslo', 'italy': 'rome', 'poland': 'warsaw'}\n"
          ],
          "name": "stdout"
        }
      ]
    },
    {
      "cell_type": "code",
      "metadata": {
        "id": "QQCjEnkyXkVI",
        "colab": {
          "base_uri": "https://localhost:8080/"
        },
        "outputId": "f416aeaf-007f-48da-ce1b-217ea647bd45"
      },
      "source": [
        "# Definition of dictionary\n",
        "europe = {'spain':'madrid', 'france':'paris', 'germany':'bonn',\n",
        "          'norway':'oslo', 'italy':'rome', 'poland':'warsaw',\n",
        "          'australia':'vienna' }\n",
        "\n",
        "# Update capital of germany\n",
        "europe['germany'] = 'berlin'\n",
        "\n",
        "# Remove australia\n",
        "del(europe['australia'])\n",
        "\n",
        "# Print europe\n",
        "print(europe)\n",
        "\n",
        "europe.clear()\n",
        "print(europe)"
      ],
      "execution_count": null,
      "outputs": [
        {
          "output_type": "stream",
          "text": [
            "{'spain': 'madrid', 'france': 'paris', 'germany': 'berlin', 'norway': 'oslo', 'italy': 'rome', 'poland': 'warsaw'}\n",
            "{}\n"
          ],
          "name": "stdout"
        }
      ]
    },
    {
      "cell_type": "code",
      "metadata": {
        "id": "WG1IietoXx-A",
        "colab": {
          "base_uri": "https://localhost:8080/"
        },
        "outputId": "fef9fd6c-14bc-4656-d100-79682ec6fee9"
      },
      "source": [
        "# Dictionary of dictionaries\n",
        "europe = { 'spain': { 'capital':'madrid', 'population':46.77 },\n",
        "           'france': { 'capital':'paris', 'population':66.03 },\n",
        "           'germany': { 'capital':'berlin', 'population':80.62 },\n",
        "           'norway': { 'capital':'oslo', 'population':5.084 } }\n",
        "\n",
        "\n",
        "# Print out the capital of France\n",
        "print(europe['france']['capital'])\n",
        "\n",
        "# Create sub-dictionary data\n",
        "data = {'capital':'rome'}\n",
        "\n",
        "# Add data to europe under key 'italy'\n",
        "europe['italy'] = data\n",
        "del(europe['germany']['capital'])\n",
        "# Print europe\n",
        "print(europe)"
      ],
      "execution_count": null,
      "outputs": [
        {
          "output_type": "stream",
          "text": [
            "paris\n",
            "{'spain': {'capital': 'madrid', 'population': 46.77}, 'france': {'capital': 'paris', 'population': 66.03}, 'germany': {'population': 80.62}, 'norway': {'capital': 'oslo', 'population': 5.084}, 'italy': {'capital': 'rome'}}\n"
          ],
          "name": "stdout"
        }
      ]
    },
    {
      "cell_type": "code",
      "metadata": {
        "id": "KXMPYJRbYJLK",
        "colab": {
          "base_uri": "https://localhost:8080/"
        },
        "outputId": "a3bb684f-68f3-46c6-a803-e50e345cfc11"
      },
      "source": [
        "# Pre-defined lists\n",
        "names = ['United States', 'Australia', 'Japan', 'India', 'Russia', 'Morocco', 'Egypt']\n",
        "dr =  [True, False, False, False, True, True, True]\n",
        "cpc = [809, 731, 588, 18, 200, 70, 45]\n",
        "\n",
        "# Import pandas as pd\n",
        "import pandas as pd\n",
        "\n",
        "# Create dictionary my_dict with three key:value pairs: my_dict\n",
        "my_dict = {'country':names, 'drives_right':dr, 'cars_per_cap':cpc}\n",
        "\n",
        "# Build a DataFrame cars from my_dict: cars\n",
        "cars = pd.DataFrame(my_dict)\n",
        "\n",
        "# Print cars\n",
        "print(cars)\n",
        "type(cars)"
      ],
      "execution_count": null,
      "outputs": [
        {
          "output_type": "stream",
          "text": [
            "         country  drives_right  cars_per_cap\n",
            "0  United States          True           809\n",
            "1      Australia         False           731\n",
            "2          Japan         False           588\n",
            "3          India         False            18\n",
            "4         Russia          True           200\n",
            "5        Morocco          True            70\n",
            "6          Egypt          True            45\n"
          ],
          "name": "stdout"
        },
        {
          "output_type": "execute_result",
          "data": {
            "text/plain": [
              "pandas.core.frame.DataFrame"
            ]
          },
          "metadata": {
            "tags": []
          },
          "execution_count": 33
        }
      ]
    },
    {
      "cell_type": "code",
      "metadata": {
        "id": "cp3HW5HTYWQH",
        "colab": {
          "base_uri": "https://localhost:8080/"
        },
        "outputId": "5392688a-3d16-461f-b5f7-ffee575d8c36"
      },
      "source": [
        "import pandas as pd\n",
        "\n",
        "# Build cars DataFrame\n",
        "names = ['United States', 'Australia', 'Japan', 'India', 'Russia', 'Morocco', 'Egypt']\n",
        "dr =  [True, False, False, False, True, True, True]\n",
        "cpc = [809, 731, 588, 18, 200, 70, 45]\n",
        "cars_dict = { 'country':names, 'drives_right':dr, 'cars_per_cap':cpc }\n",
        "cars = pd.DataFrame(cars_dict)\n",
        "print(cars)\n",
        "\n",
        "# Definition of row_labels\n",
        "row_labels = ['US', 'AUS', 'JPN', 2, 'RU', 'MOR', 'EG']\n",
        "\n",
        "# Specify row labels of cars\n",
        "cars.index = row_labels\n",
        "\n",
        "# Print cars again\n",
        "print(cars)"
      ],
      "execution_count": null,
      "outputs": [
        {
          "output_type": "stream",
          "text": [
            "         country  drives_right  cars_per_cap\n",
            "0  United States          True           809\n",
            "1      Australia         False           731\n",
            "2          Japan         False           588\n",
            "3          India         False            18\n",
            "4         Russia          True           200\n",
            "5        Morocco          True            70\n",
            "6          Egypt          True            45\n",
            "           country  drives_right  cars_per_cap\n",
            "US   United States          True           809\n",
            "AUS      Australia         False           731\n",
            "JPN          Japan         False           588\n",
            "2            India         False            18\n",
            "RU          Russia          True           200\n",
            "MOR        Morocco          True            70\n",
            "EG           Egypt          True            45\n"
          ],
          "name": "stdout"
        }
      ]
    },
    {
      "cell_type": "code",
      "metadata": {
        "id": "pksufD8YYaLH"
      },
      "source": [
        "# Import pandas as pd\n",
        "import pandas as pd\n",
        "\n",
        "# Import the cars.csv data: cars\n",
        "cars = pd.read_csv('Data1.csv')\n",
        "\n",
        "# Print out cars\n",
        "print(cars)"
      ],
      "execution_count": null,
      "outputs": []
    },
    {
      "cell_type": "code",
      "metadata": {
        "id": "A6gn0443YjNX"
      },
      "source": [
        "# Import cars data\n",
        "import pandas as pd\n",
        "cars = pd.read_csv('Data1.csv')\n",
        "\n",
        "# Print out country column as Pandas Series\n",
        "print(cars['Country'])\n",
        "\n",
        "# Print out country column as Pandas DataFrame\n",
        "print(cars[['Country']])\n",
        "\n",
        "# Print out DataFrame with country and drives_right columns\n",
        "print(cars[['Country', 'cpc']])"
      ],
      "execution_count": null,
      "outputs": []
    },
    {
      "cell_type": "code",
      "metadata": {
        "id": "mo6HDsOqYn9g"
      },
      "source": [
        "# Import cars data\n",
        "import pandas as pd\n",
        "cars = pd.read_csv('Data1.csv')\n",
        "\n",
        "# Print out first 3 observations\n",
        "print(cars[0:3])\n",
        "\n",
        "# Print out fourth, fifth and sixth observation\n",
        "print(cars[3:6])"
      ],
      "execution_count": null,
      "outputs": []
    },
    {
      "cell_type": "code",
      "metadata": {
        "id": "LE-Paz03YrbL"
      },
      "source": [
        "# Import cars data\n",
        "import pandas as pd\n",
        "cars = pd.read_csv('Data1.csv')\n",
        "cars1=cars.head()\n",
        "cars1"
      ],
      "execution_count": null,
      "outputs": []
    },
    {
      "cell_type": "code",
      "metadata": {
        "id": "YEBTXzE_1uK7"
      },
      "source": [
        "import pandas as pd\n",
        "\n",
        "# Build cars DataFrame\n",
        "names = ['United States', 'Australia', 'Japan', 'India', 'Russia', 'Morocco', 'Egypt']\n",
        "dr =  [True, False, False, False, True, True, True]\n",
        "cpc = [809, 731, 588, 18, 200, 70, 45]\n",
        "cars_dict = { 'country':names, 'drives_right':dr, 'cars_per_cap':cpc }\n",
        "cars = pd.DataFrame(cars_dict)\n",
        "print(cars)\n",
        "\n",
        "# Definition of row_labels\n",
        "row_labels = ['US', 'AUS', 'JPN', 'IND', 'RU', 'MOR', 'EG']\n",
        "\n",
        "# Specify row labels of cars\n",
        "cars.index = row_labels\n",
        "\n",
        "# Print cars again\n",
        "print(cars)"
      ],
      "execution_count": null,
      "outputs": []
    },
    {
      "cell_type": "code",
      "metadata": {
        "id": "7QRy_WrBxyii"
      },
      "source": [
        "#2.3 working with tabular data using Pandas"
      ],
      "execution_count": null,
      "outputs": []
    },
    {
      "cell_type": "code",
      "metadata": {
        "id": "nDOcVWFRksog",
        "colab": {
          "base_uri": "https://localhost:8080/"
        },
        "outputId": "558fbe5a-1abe-44bc-9d06-47286d97457e"
      },
      "source": [
        "# Import cars data\n",
        "import pandas as pd\n",
        "cars = pd.read_csv('Data1.csv', index_col = [0,3])\n",
        "\n",
        "# Import numpy, you'll need this\n",
        "import numpy as np\n",
        "\n",
        "# Create medium: observations with cars_per_cap between 50 and 50\n",
        "cpc = cars['cpc']\n",
        "print(cpc)\n",
        "between = np.logical_and(cpc > 30, cpc < 50)\n",
        "#between = (cpc > 30) and (cpc < 50)\n",
        "medium = cars[between]\n",
        "\n",
        "# Print medium\n",
        "print(medium)"
      ],
      "execution_count": null,
      "outputs": [
        {
          "output_type": "stream",
          "text": [
            "Country  Purchased\n",
            "France   No           44\n",
            "Spain    Yes          27\n",
            "Germany  No           30\n",
            "Spain    No           38\n",
            "Germany  Yes          40\n",
            "France   Yes          35\n",
            "Spain    No           52\n",
            "France   Yes          48\n",
            "Germany  No           50\n",
            "France   Yes          37\n",
            "Name: cpc, dtype: int64\n",
            "                   cpc  drive_right\n",
            "Country Purchased                  \n",
            "France  No          44         True\n",
            "Spain   No          38        False\n",
            "Germany Yes         40         True\n",
            "France  Yes         35        False\n",
            "        Yes         48         True\n",
            "        Yes         37        False\n"
          ],
          "name": "stdout"
        }
      ]
    },
    {
      "cell_type": "code",
      "metadata": {
        "colab": {
          "base_uri": "https://localhost:8080/",
          "height": 221
        },
        "id": "JpYTdLR86qIl",
        "outputId": "87bf8edf-2f09-4409-95fe-d27de05f8f38"
      },
      "source": [
        "#import Covid-19 Data\r\n",
        "import pandas as pd \r\n",
        "covid = pd.read_csv('PK COVID-19-3jun.csv')\r\n",
        "\r\n",
        "#shape (how many rows and columns)\r\n",
        "print(covid.shape)\r\n",
        "covid.head()\r\n"
      ],
      "execution_count": null,
      "outputs": [
        {
          "output_type": "stream",
          "text": [
            "(2798, 7)\n"
          ],
          "name": "stdout"
        },
        {
          "output_type": "execute_result",
          "data": {
            "text/html": [
              "<div>\n",
              "<style scoped>\n",
              "    .dataframe tbody tr th:only-of-type {\n",
              "        vertical-align: middle;\n",
              "    }\n",
              "\n",
              "    .dataframe tbody tr th {\n",
              "        vertical-align: top;\n",
              "    }\n",
              "\n",
              "    .dataframe thead th {\n",
              "        text-align: right;\n",
              "    }\n",
              "</style>\n",
              "<table border=\"1\" class=\"dataframe\">\n",
              "  <thead>\n",
              "    <tr style=\"text-align: right;\">\n",
              "      <th></th>\n",
              "      <th>Date</th>\n",
              "      <th>Cases</th>\n",
              "      <th>Deaths</th>\n",
              "      <th>Recovered</th>\n",
              "      <th>Travel_history</th>\n",
              "      <th>Province</th>\n",
              "      <th>City</th>\n",
              "    </tr>\n",
              "  </thead>\n",
              "  <tbody>\n",
              "    <tr>\n",
              "      <th>0</th>\n",
              "      <td>2/26/2020</td>\n",
              "      <td>1</td>\n",
              "      <td>0</td>\n",
              "      <td>0</td>\n",
              "      <td>China</td>\n",
              "      <td>Islamabad Capital Territory</td>\n",
              "      <td>Islamabad</td>\n",
              "    </tr>\n",
              "    <tr>\n",
              "      <th>1</th>\n",
              "      <td>2/26/2020</td>\n",
              "      <td>2</td>\n",
              "      <td>0</td>\n",
              "      <td>0</td>\n",
              "      <td>Iran/Taftan</td>\n",
              "      <td>Sindh</td>\n",
              "      <td>Karachi</td>\n",
              "    </tr>\n",
              "    <tr>\n",
              "      <th>2</th>\n",
              "      <td>2/29/2020</td>\n",
              "      <td>1</td>\n",
              "      <td>0</td>\n",
              "      <td>0</td>\n",
              "      <td>China</td>\n",
              "      <td>Islamabad Capital Territory</td>\n",
              "      <td>Islamabad</td>\n",
              "    </tr>\n",
              "    <tr>\n",
              "      <th>3</th>\n",
              "      <td>2/29/2020</td>\n",
              "      <td>1</td>\n",
              "      <td>0</td>\n",
              "      <td>0</td>\n",
              "      <td>Iran/Taftan</td>\n",
              "      <td>Sindh</td>\n",
              "      <td>Karachi</td>\n",
              "    </tr>\n",
              "    <tr>\n",
              "      <th>4</th>\n",
              "      <td>3/2/2020</td>\n",
              "      <td>1</td>\n",
              "      <td>0</td>\n",
              "      <td>0</td>\n",
              "      <td>Iran/Taftan</td>\n",
              "      <td>Gilgit-Baltistan</td>\n",
              "      <td>Gilgit</td>\n",
              "    </tr>\n",
              "  </tbody>\n",
              "</table>\n",
              "</div>"
            ],
            "text/plain": [
              "        Date  Cases  ...                     Province       City\n",
              "0  2/26/2020      1  ...  Islamabad Capital Territory  Islamabad\n",
              "1  2/26/2020      2  ...                        Sindh    Karachi\n",
              "2  2/29/2020      1  ...  Islamabad Capital Territory  Islamabad\n",
              "3  2/29/2020      1  ...                        Sindh    Karachi\n",
              "4   3/2/2020      1  ...             Gilgit-Baltistan     Gilgit\n",
              "\n",
              "[5 rows x 7 columns]"
            ]
          },
          "metadata": {
            "tags": []
          },
          "execution_count": 36
        }
      ]
    },
    {
      "cell_type": "code",
      "metadata": {
        "colab": {
          "base_uri": "https://localhost:8080/",
          "height": 204
        },
        "id": "bnh0U44F8SSt",
        "outputId": "2160e433-45e6-43ed-9a45-ad6d61cfbe7a"
      },
      "source": [
        "covid.tail()"
      ],
      "execution_count": null,
      "outputs": [
        {
          "output_type": "execute_result",
          "data": {
            "text/html": [
              "<div>\n",
              "<style scoped>\n",
              "    .dataframe tbody tr th:only-of-type {\n",
              "        vertical-align: middle;\n",
              "    }\n",
              "\n",
              "    .dataframe tbody tr th {\n",
              "        vertical-align: top;\n",
              "    }\n",
              "\n",
              "    .dataframe thead th {\n",
              "        text-align: right;\n",
              "    }\n",
              "</style>\n",
              "<table border=\"1\" class=\"dataframe\">\n",
              "  <thead>\n",
              "    <tr style=\"text-align: right;\">\n",
              "      <th></th>\n",
              "      <th>Date</th>\n",
              "      <th>Cases</th>\n",
              "      <th>Deaths</th>\n",
              "      <th>Recovered</th>\n",
              "      <th>Travel_history</th>\n",
              "      <th>Province</th>\n",
              "      <th>City</th>\n",
              "    </tr>\n",
              "  </thead>\n",
              "  <tbody>\n",
              "    <tr>\n",
              "      <th>2793</th>\n",
              "      <td>5/30/2020</td>\n",
              "      <td>952</td>\n",
              "      <td>36</td>\n",
              "      <td>394</td>\n",
              "      <td>NaN</td>\n",
              "      <td>Punjab</td>\n",
              "      <td>Lahore</td>\n",
              "    </tr>\n",
              "    <tr>\n",
              "      <th>2794</th>\n",
              "      <td>5/31/2020</td>\n",
              "      <td>1184</td>\n",
              "      <td>22</td>\n",
              "      <td>120</td>\n",
              "      <td>NaN</td>\n",
              "      <td>Punjab</td>\n",
              "      <td>Lahore</td>\n",
              "    </tr>\n",
              "    <tr>\n",
              "      <th>2795</th>\n",
              "      <td>6/1/2020</td>\n",
              "      <td>1610</td>\n",
              "      <td>43</td>\n",
              "      <td>95</td>\n",
              "      <td>NaN</td>\n",
              "      <td>Punjab</td>\n",
              "      <td>Lahore</td>\n",
              "    </tr>\n",
              "    <tr>\n",
              "      <th>2796</th>\n",
              "      <td>6/2/2020</td>\n",
              "      <td>1639</td>\n",
              "      <td>30</td>\n",
              "      <td>353</td>\n",
              "      <td>NaN</td>\n",
              "      <td>Punjab</td>\n",
              "      <td>Lahore</td>\n",
              "    </tr>\n",
              "    <tr>\n",
              "      <th>2797</th>\n",
              "      <td>6/3/2020</td>\n",
              "      <td>1615</td>\n",
              "      <td>37</td>\n",
              "      <td>243</td>\n",
              "      <td>NaN</td>\n",
              "      <td>Punjab</td>\n",
              "      <td>Lahore</td>\n",
              "    </tr>\n",
              "  </tbody>\n",
              "</table>\n",
              "</div>"
            ],
            "text/plain": [
              "           Date  Cases  Deaths  Recovered Travel_history Province    City\n",
              "2793  5/30/2020    952      36        394            NaN   Punjab  Lahore\n",
              "2794  5/31/2020   1184      22        120            NaN   Punjab  Lahore\n",
              "2795   6/1/2020   1610      43         95            NaN   Punjab  Lahore\n",
              "2796   6/2/2020   1639      30        353            NaN   Punjab  Lahore\n",
              "2797   6/3/2020   1615      37        243            NaN   Punjab  Lahore"
            ]
          },
          "metadata": {
            "tags": []
          },
          "execution_count": 41
        }
      ]
    },
    {
      "cell_type": "code",
      "metadata": {
        "colab": {
          "base_uri": "https://localhost:8080/"
        },
        "id": "X1PUakzi9VHQ",
        "outputId": "e942148f-0f84-4065-a1c0-2ace82e0cd65"
      },
      "source": [
        "covid.columns"
      ],
      "execution_count": null,
      "outputs": [
        {
          "output_type": "execute_result",
          "data": {
            "text/plain": [
              "Index(['Date', 'Cases', 'Deaths', 'Recovered', 'Travel_history', 'Province',\n",
              "       'City'],\n",
              "      dtype='object')"
            ]
          },
          "metadata": {
            "tags": []
          },
          "execution_count": 39
        }
      ]
    },
    {
      "cell_type": "code",
      "metadata": {
        "colab": {
          "base_uri": "https://localhost:8080/"
        },
        "id": "bcpPXNtW_Vqw",
        "outputId": "6f2505ec-6028-4981-8ff8-3d266dd82ce6"
      },
      "source": [
        "covid.info()"
      ],
      "execution_count": null,
      "outputs": [
        {
          "output_type": "stream",
          "text": [
            "<class 'pandas.core.frame.DataFrame'>\n",
            "RangeIndex: 2798 entries, 0 to 2797\n",
            "Data columns (total 7 columns):\n",
            " #   Column          Non-Null Count  Dtype \n",
            "---  ------          --------------  ----- \n",
            " 0   Date            2798 non-null   object\n",
            " 1   Cases           2798 non-null   int64 \n",
            " 2   Deaths          2798 non-null   int64 \n",
            " 3   Recovered       2798 non-null   int64 \n",
            " 4   Travel_history  2762 non-null   object\n",
            " 5   Province        2798 non-null   object\n",
            " 6   City            2798 non-null   object\n",
            "dtypes: int64(3), object(4)\n",
            "memory usage: 153.1+ KB\n"
          ],
          "name": "stdout"
        }
      ]
    },
    {
      "cell_type": "code",
      "metadata": {
        "colab": {
          "base_uri": "https://localhost:8080/"
        },
        "id": "gyNwLOj-Ei5L",
        "outputId": "3a1d6582-3941-4c46-da60-7936f346cb95"
      },
      "source": [
        "covid.isna().sum()"
      ],
      "execution_count": null,
      "outputs": [
        {
          "output_type": "execute_result",
          "data": {
            "text/plain": [
              "Date               0\n",
              "Cases              0\n",
              "Deaths             0\n",
              "Recovered          0\n",
              "Travel_history    36\n",
              "Province           0\n",
              "City               0\n",
              "dtype: int64"
            ]
          },
          "metadata": {
            "tags": []
          },
          "execution_count": 42
        }
      ]
    },
    {
      "cell_type": "code",
      "metadata": {
        "colab": {
          "base_uri": "https://localhost:8080/"
        },
        "id": "PDb3EEq-GydG",
        "outputId": "a575a1f3-3d11-4b3a-d091-983b67af8d39"
      },
      "source": [
        "new_df = covid.dropna()\r\n",
        "print(new_df.tail())"
      ],
      "execution_count": null,
      "outputs": [
        {
          "output_type": "stream",
          "text": [
            "           Date  Cases  ...            Province          City\n",
            "2757  5/30/2020     17  ...  Azad Jummu Kashmir  Muzaffarabad\n",
            "2758  5/31/2020      4  ...  Azad Jummu Kashmir  Muzaffarabad\n",
            "2759   6/1/2020     16  ...  Azad Jummu Kashmir  Muzaffarabad\n",
            "2760   6/2/2020     13  ...  Azad Jummu Kashmir  Muzaffarabad\n",
            "2761   6/3/2020      1  ...  Azad Jummu Kashmir  Muzaffarabad\n",
            "\n",
            "[5 rows x 7 columns]\n"
          ],
          "name": "stdout"
        }
      ]
    },
    {
      "cell_type": "code",
      "metadata": {
        "colab": {
          "base_uri": "https://localhost:8080/"
        },
        "id": "MdixA3KvHEmI",
        "outputId": "2a6a6816-a70a-492b-ea1e-c241ddae7180"
      },
      "source": [
        "#covid.dropna(inplace = True) \r\n",
        "print(covid.shape)\r\n",
        "print(new_df.shape)"
      ],
      "execution_count": null,
      "outputs": [
        {
          "output_type": "stream",
          "text": [
            "(2798, 7)\n",
            "(2762, 7)\n"
          ],
          "name": "stdout"
        }
      ]
    },
    {
      "cell_type": "code",
      "metadata": {
        "colab": {
          "base_uri": "https://localhost:8080/"
        },
        "id": "_m6uOsO2GH-v",
        "outputId": "862c848b-1b23-4773-e199-09ef1fb98e80"
      },
      "source": [
        "th = covid['Travel_history']\r\n",
        "print(th)\r\n",
        "print('-'*50)\r\n",
        "freq = th.value_counts() \r\n",
        "print(\"frequency \", freq)"
      ],
      "execution_count": null,
      "outputs": [
        {
          "output_type": "stream",
          "text": [
            "0             China\n",
            "1       Iran/Taftan\n",
            "2             China\n",
            "3       Iran/Taftan\n",
            "4       Iran/Taftan\n",
            "           ...     \n",
            "2793            NaN\n",
            "2794            NaN\n",
            "2795            NaN\n",
            "2796            NaN\n",
            "2797            NaN\n",
            "Name: Travel_history, Length: 2798, dtype: object\n",
            "--------------------------------------------------\n",
            "frequency  Local - Social Contact     2499\n",
            "Unknown                     123\n",
            "Iran/Taftan                  88\n",
            "Tableeghi Jamaat             23\n",
            "International Passenger       5\n",
            "Jail                          5\n",
            "Afghanistan                   5\n",
            "UK                            3\n",
            "China                         2\n",
            "Dubai                         2\n",
            "Syria                         2\n",
            "KSA                           2\n",
            "India                         1\n",
            "Local - Covid Relative        1\n",
            "USA                           1\n",
            "Name: Travel_history, dtype: int64\n"
          ],
          "name": "stdout"
        }
      ]
    },
    {
      "cell_type": "code",
      "metadata": {
        "colab": {
          "base_uri": "https://localhost:8080/"
        },
        "id": "xsAh1JIpJEkN",
        "outputId": "b448c852-c33d-4a49-943a-3c22b2fa1f57"
      },
      "source": [
        "th.mode()"
      ],
      "execution_count": null,
      "outputs": [
        {
          "output_type": "execute_result",
          "data": {
            "text/plain": [
              "0    Local - Social Contact\n",
              "dtype: object"
            ]
          },
          "metadata": {
            "tags": []
          },
          "execution_count": 46
        }
      ]
    },
    {
      "cell_type": "code",
      "metadata": {
        "colab": {
          "base_uri": "https://localhost:8080/"
        },
        "id": "oTLstSnOIFup",
        "outputId": "29515c8e-1adf-4af3-fe71-ea12123ecdff"
      },
      "source": [
        "covid.fillna(\"Local - Social Contact\", inplace = True)\r\n",
        "\r\n",
        "#fill values in a specified column\r\n",
        "#covid[\"Travel_history\"].fillna(\"Local - Social Contact\", inplace = True)\r\n",
        "\r\n",
        "covid.info()"
      ],
      "execution_count": null,
      "outputs": [
        {
          "output_type": "stream",
          "text": [
            "<class 'pandas.core.frame.DataFrame'>\n",
            "RangeIndex: 2798 entries, 0 to 2797\n",
            "Data columns (total 7 columns):\n",
            " #   Column          Non-Null Count  Dtype \n",
            "---  ------          --------------  ----- \n",
            " 0   Date            2798 non-null   object\n",
            " 1   Cases           2798 non-null   int64 \n",
            " 2   Deaths          2798 non-null   int64 \n",
            " 3   Recovered       2798 non-null   int64 \n",
            " 4   Travel_history  2798 non-null   object\n",
            " 5   Province        2798 non-null   object\n",
            " 6   City            2798 non-null   object\n",
            "dtypes: int64(3), object(4)\n",
            "memory usage: 153.1+ KB\n"
          ],
          "name": "stdout"
        }
      ]
    },
    {
      "cell_type": "code",
      "metadata": {
        "colab": {
          "base_uri": "https://localhost:8080/",
          "height": 297
        },
        "id": "yownbK-zMrbw",
        "outputId": "c383768b-8b99-4f72-e7a7-de7e0d61e14a"
      },
      "source": [
        "covid.describe()"
      ],
      "execution_count": null,
      "outputs": [
        {
          "output_type": "execute_result",
          "data": {
            "text/html": [
              "<div>\n",
              "<style scoped>\n",
              "    .dataframe tbody tr th:only-of-type {\n",
              "        vertical-align: middle;\n",
              "    }\n",
              "\n",
              "    .dataframe tbody tr th {\n",
              "        vertical-align: top;\n",
              "    }\n",
              "\n",
              "    .dataframe thead th {\n",
              "        text-align: right;\n",
              "    }\n",
              "</style>\n",
              "<table border=\"1\" class=\"dataframe\">\n",
              "  <thead>\n",
              "    <tr style=\"text-align: right;\">\n",
              "      <th></th>\n",
              "      <th>Cases</th>\n",
              "      <th>Deaths</th>\n",
              "      <th>Recovered</th>\n",
              "    </tr>\n",
              "  </thead>\n",
              "  <tbody>\n",
              "    <tr>\n",
              "      <th>count</th>\n",
              "      <td>2798.000000</td>\n",
              "      <td>2798.000000</td>\n",
              "      <td>2798.000000</td>\n",
              "    </tr>\n",
              "    <tr>\n",
              "      <th>mean</th>\n",
              "      <td>30.016440</td>\n",
              "      <td>0.617584</td>\n",
              "      <td>8.847034</td>\n",
              "    </tr>\n",
              "    <tr>\n",
              "      <th>std</th>\n",
              "      <td>128.861666</td>\n",
              "      <td>2.716284</td>\n",
              "      <td>61.362566</td>\n",
              "    </tr>\n",
              "    <tr>\n",
              "      <th>min</th>\n",
              "      <td>0.000000</td>\n",
              "      <td>0.000000</td>\n",
              "      <td>-2.000000</td>\n",
              "    </tr>\n",
              "    <tr>\n",
              "      <th>25%</th>\n",
              "      <td>0.000000</td>\n",
              "      <td>0.000000</td>\n",
              "      <td>0.000000</td>\n",
              "    </tr>\n",
              "    <tr>\n",
              "      <th>50%</th>\n",
              "      <td>2.000000</td>\n",
              "      <td>0.000000</td>\n",
              "      <td>0.000000</td>\n",
              "    </tr>\n",
              "    <tr>\n",
              "      <th>75%</th>\n",
              "      <td>9.000000</td>\n",
              "      <td>0.000000</td>\n",
              "      <td>1.000000</td>\n",
              "    </tr>\n",
              "    <tr>\n",
              "      <th>max</th>\n",
              "      <td>1639.000000</td>\n",
              "      <td>43.000000</td>\n",
              "      <td>1431.000000</td>\n",
              "    </tr>\n",
              "  </tbody>\n",
              "</table>\n",
              "</div>"
            ],
            "text/plain": [
              "             Cases       Deaths    Recovered\n",
              "count  2798.000000  2798.000000  2798.000000\n",
              "mean     30.016440     0.617584     8.847034\n",
              "std     128.861666     2.716284    61.362566\n",
              "min       0.000000     0.000000    -2.000000\n",
              "25%       0.000000     0.000000     0.000000\n",
              "50%       2.000000     0.000000     0.000000\n",
              "75%       9.000000     0.000000     1.000000\n",
              "max    1639.000000    43.000000  1431.000000"
            ]
          },
          "metadata": {
            "tags": []
          },
          "execution_count": 48
        }
      ]
    },
    {
      "cell_type": "code",
      "metadata": {
        "id": "GOIX7TLYOBDS"
      },
      "source": [
        "#one way to fill values just for understanding(we do not have missing values in recovered column)\r\n",
        "x = covid[\"Recovered\"].mean()\r\n",
        "\r\n",
        "covid[\"Recovered\"].fillna(x, inplace = True)"
      ],
      "execution_count": null,
      "outputs": []
    },
    {
      "cell_type": "code",
      "metadata": {
        "colab": {
          "base_uri": "https://localhost:8080/"
        },
        "id": "KPFJ8kRnOvAo",
        "outputId": "7857850e-9690-4274-d7a3-970660862da5"
      },
      "source": [
        "#converting data into correct format\r\n",
        "covid['Date'] = pd.to_datetime(covid['Date'])\r\n",
        "covid.info()"
      ],
      "execution_count": null,
      "outputs": [
        {
          "output_type": "stream",
          "text": [
            "<class 'pandas.core.frame.DataFrame'>\n",
            "RangeIndex: 2798 entries, 0 to 2797\n",
            "Data columns (total 7 columns):\n",
            " #   Column          Non-Null Count  Dtype         \n",
            "---  ------          --------------  -----         \n",
            " 0   Date            2798 non-null   datetime64[ns]\n",
            " 1   Cases           2798 non-null   int64         \n",
            " 2   Deaths          2798 non-null   int64         \n",
            " 3   Recovered       2798 non-null   int64         \n",
            " 4   Travel_history  2798 non-null   object        \n",
            " 5   Province        2798 non-null   object        \n",
            " 6   City            2798 non-null   object        \n",
            "dtypes: datetime64[ns](1), int64(3), object(3)\n",
            "memory usage: 153.1+ KB\n"
          ],
          "name": "stdout"
        }
      ]
    },
    {
      "cell_type": "code",
      "metadata": {
        "id": "JLqni08fTMc1"
      },
      "source": [
        "#2.4 #Data visualization is a key skill for aspiring data scientists. \r\n",
        "#Matplotlib makes it easy to create meaningful and insightful plots. \r\n",
        "#In this chapter, you’ll learn how to build various types of plots, \r\n",
        "#and customize them to be more visually appealing and interpretable."
      ],
      "execution_count": null,
      "outputs": []
    },
    {
      "cell_type": "code",
      "metadata": {
        "id": "_WWX2bGZGoGy"
      },
      "source": [
        "# line plot, log plot, scatter plot, histogram , bins (intervals), label, title, ticks etc"
      ],
      "execution_count": null,
      "outputs": []
    },
    {
      "cell_type": "code",
      "metadata": {
        "id": "ZpWvACIq23ZQ",
        "colab": {
          "base_uri": "https://localhost:8080/",
          "height": 264
        },
        "outputId": "bf596b5e-cb57-4d57-b658-011446ac7e4f"
      },
      "source": [
        "# Print the last item from year and pop\n",
        "year = [1950, 1970, 1990, 2010]   #xdata\n",
        "pop = [2.519, 3.692, 5.263, 6.972]  #ydata\n",
        " #matplotlib\n",
        "#import \n",
        "\n",
        "# submodule pyplot \n",
        "import matplotlib.pyplot as plt\n",
        "\n",
        "# Make a line plot: year on the x-axis, pop on the y-axis\n",
        "\n",
        "\n",
        "#plt.plot(year, pop)\n",
        "\n",
        "plt.plot(year, pop, marker = 'o')\n",
        "\n",
        "# Display the plot with plt.show()\n",
        "plt.show()"
      ],
      "execution_count": null,
      "outputs": [
        {
          "output_type": "display_data",
          "data": {
            "image/png": "[encoded data removed]",
            "text/plain": [
              "<Figure size 432x288 with 1 Axes>"
            ]
          },
          "metadata": {
            "tags": [],
            "needs_background": "light"
          }
        }
      ]
    },
    {
      "cell_type": "code",
      "metadata": {
        "colab": {
          "base_uri": "https://localhost:8080/",
          "height": 264
        },
        "id": "dpFNrxbKWyxg",
        "outputId": "dc371e65-6e49-4f79-cdc4-bf804ef6c970"
      },
      "source": [
        "import matplotlib.pyplot as plt\r\n",
        "\r\n",
        "xpoints = [1, 8, 5, 6]\r\n",
        "ypoints = [3, 10, 4, 10]\r\n",
        "\r\n",
        "#setting up color and pattern of line\r\n",
        "plt.plot(xpoints, ypoints,  '*:g')\r\n",
        "plt.show()"
      ],
      "execution_count": null,
      "outputs": [
        {
          "output_type": "display_data",
          "data": {
            "image/png": "[encoded data removed]",
            "text/plain": [
              "<Figure size 432x288 with 1 Axes>"
            ]
          },
          "metadata": {
            "tags": [],
            "needs_background": "light"
          }
        }
      ]
    },
    {
      "cell_type": "code",
      "metadata": {
        "colab": {
          "base_uri": "https://localhost:8080/"
        },
        "id": "0x0bRvoQQT1I",
        "outputId": "0c269b10-3e00-4bd5-bd0e-e6d63b2d384c"
      },
      "source": [
        "#checking for the version\r\n",
        "print(matplotlib.__version__)"
      ],
      "execution_count": null,
      "outputs": [
        {
          "output_type": "stream",
          "text": [
            "3.2.2\n"
          ],
          "name": "stdout"
        }
      ]
    },
    {
      "cell_type": "code",
      "metadata": {
        "id": "lwmC-hIJ26BR",
        "colab": {
          "base_uri": "https://localhost:8080/",
          "height": 265
        },
        "outputId": "1762c964-0dbc-4ca1-9656-bb6219319a9e"
      },
      "source": [
        "# Change the line plot to a scatter plot\n",
        "#The scatter() function plots one dot for each observation\n",
        "\n",
        "plt.scatter(year, pop, marker = \"D\")\n",
        "\n",
        "# Put the x-axis on a logarithmic scale\n",
        "plt.yscale('log')\n",
        "\n",
        "# Show plot\n",
        "plt.show()"
      ],
      "execution_count": null,
      "outputs": [
        {
          "output_type": "display_data",
          "data": {
            "image/png": "[encoded data removed]",
            "text/plain": [
              "<Figure size 432x288 with 1 Axes>"
            ]
          },
          "metadata": {
            "tags": [],
            "needs_background": "light"
          }
        }
      ]
    },
    {
      "cell_type": "code",
      "metadata": {
        "colab": {
          "base_uri": "https://localhost:8080/",
          "height": 264
        },
        "id": "kQJ0iZTzSo06",
        "outputId": "eeeb6e39-631c-4d1b-ef27-691772428d02"
      },
      "source": [
        "#The scatter() function plots one dot for each observation\r\n",
        "import matplotlib.pyplot as plt\r\n",
        "import numpy as np\r\n",
        "\r\n",
        "car_age = np.array([5,7,8,7,2,17,2,9,4,11,12,9,6])\r\n",
        "speed = np.array([99,86,87,88,111,86,103,87,94,78,77,85,86])\r\n",
        "\r\n",
        "plt.scatter(car_age, speed)\r\n",
        "plt.show()"
      ],
      "execution_count": 1,
      "outputs": [
        {
          "output_type": "display_data",
          "data": {
            "image/png": "[encoded data removed]",
            "text/plain": [
              "<Figure size 432x288 with 1 Axes>"
            ]
          },
          "metadata": {
            "tags": [],
            "needs_background": "light"
          }
        }
      ]
    },
    {
      "cell_type": "code",
      "metadata": {
        "colab": {
          "base_uri": "https://localhost:8080/",
          "height": 264
        },
        "id": "MPvY7nxh5DJy",
        "outputId": "770e0dd5-9fa6-49bd-8fd0-cd79a4648e40"
      },
      "source": [
        "import matplotlib.pyplot as plt\r\n",
        "import numpy as np\r\n",
        "\r\n",
        "#carage = np.array([5,7,8,7,2,17,2,9,4,11,12,9,6])\r\n",
        "speed = np.array([99,86,87,88,111,86,103,87,94,78,77,85,86])\r\n",
        "\r\n",
        "#plot for speed, x values by default starting from 0 \r\n",
        "plt.plot(speed)\r\n",
        "plt.show()"
      ],
      "execution_count": 2,
      "outputs": [
        {
          "output_type": "display_data",
          "data": {
            "image/png": "[encoded data removed]",
            "text/plain": [
              "<Figure size 432x288 with 1 Axes>"
            ]
          },
          "metadata": {
            "tags": [],
            "needs_background": "light"
          }
        }
      ]
    },
    {
      "cell_type": "code",
      "metadata": {
        "id": "ky921bOQ2854",
        "colab": {
          "base_uri": "https://localhost:8080/",
          "height": 265
        },
        "outputId": "87efd417-31f6-4d8a-e2fc-624c788a4570"
      },
      "source": [
        "# Create histogram of life_exp data\n",
        "year = [1950, 1970, 1990, 2010,1950]   #xdata\n",
        "pop = [2.519, 3.692, 5.263, 6.972]  #ydata\n",
        "plt.hist(year)\n",
        "\n",
        "# Display histogram\n",
        "plt.show()"
      ],
      "execution_count": null,
      "outputs": [
        {
          "output_type": "display_data",
          "data": {
            "image/png": "[encoded data removed]",
            "text/plain": [
              "<Figure size 432x288 with 1 Axes>"
            ]
          },
          "metadata": {
            "tags": [],
            "needs_background": "light"
          }
        }
      ]
    },
    {
      "cell_type": "code",
      "metadata": {
        "id": "FXzIZy5R3ANC",
        "colab": {
          "base_uri": "https://localhost:8080/",
          "height": 282
        },
        "outputId": "22b6016a-2308-4e4b-d4d9-50923d428284"
      },
      "source": [
        "# Build histogram with 3 bins\n",
        "pop = [2.519, 3.692, 5.263, 6.972]  #ydata\n",
        "plt.hist(pop, bins=3)\n",
        "\n",
        "# Show and clean up plot\n",
        "plt.show()\n",
        "plt.clf()\n",
        "\n",
        "# Build histogram with 20 bins\n",
        "#plt.hist(pop, bins=20)\n",
        "\n",
        "# Show and clean up again\n",
        "#plt.show()\n",
        "#plt.clf()"
      ],
      "execution_count": null,
      "outputs": [
        {
          "output_type": "display_data",
          "data": {
            "image/png": "[encoded data removed]",
            "text/plain": [
              "<Figure size 432x288 with 1 Axes>"
            ]
          },
          "metadata": {
            "tags": [],
            "needs_background": "light"
          }
        },
        {
          "output_type": "display_data",
          "data": {
            "text/plain": [
              "<Figure size 432x288 with 0 Axes>"
            ]
          },
          "metadata": {
            "tags": []
          }
        }
      ]
    },
    {
      "cell_type": "code",
      "metadata": {
        "id": "zd4hBdsq3Fxa",
        "colab": {
          "base_uri": "https://localhost:8080/",
          "height": 545
        },
        "outputId": "13117a79-53bd-4ba3-9f67-973ea4089779"
      },
      "source": [
        "# Basic scatter plot, log scale\n",
        "year = [1950, 1970, 1990, 2010]   #xdata\n",
        "pop = [2.519, 3.692, 5.263, 6.972]  #ydata\n",
        "plt.scatter(year,pop)\n",
        "plt.xscale('log') \n",
        "\n",
        "# Strings\n",
        "xlab = 'GDP per Capita [in USD]'\n",
        "ylab = 'Life Expectancy [in years]'\n",
        "title = 'World Development in 2007'\n",
        "plt.show()\n",
        "# Add axis labels\n",
        "plt.xlabel(xlab)\n",
        "plt.ylabel(ylab)\n",
        "\n",
        "# Add title\n",
        "plt.title(title)\n",
        "\n",
        "# After customizing, display the plot\n",
        "plt.show()"
      ],
      "execution_count": 4,
      "outputs": [
        {
          "output_type": "display_data",
          "data": {
            "image/png": "[encoded data removed]",
            "text/plain": [
              "<Figure size 432x288 with 1 Axes>"
            ]
          },
          "metadata": {
            "tags": [],
            "needs_background": "light"
          }
        },
        {
          "output_type": "display_data",
          "data": {
            "image/png": "[encoded data removed]",
            "text/plain": [
              "<Figure size 432x288 with 1 Axes>"
            ]
          },
          "metadata": {
            "tags": [],
            "needs_background": "light"
          }
        }
      ]
    },
    {
      "cell_type": "code",
      "metadata": {
        "id": "tj-FU4vo3IiJ",
        "colab": {
          "base_uri": "https://localhost:8080/",
          "height": 294
        },
        "outputId": "fcedded0-8405-4b6c-ddba-877cae24413c"
      },
      "source": [
        "# Scatter plot\n",
        "year = [1950, 1970, 1990, 2010]   #xdata\n",
        "pop = [2.519, 3.692, 5.263, 6.972]  #ydata\n",
        "\n",
        "plt.scatter(year, pop)\n",
        "\n",
        "# Previous customizations\n",
        "plt.xscale('log') \n",
        "plt.xlabel('GDP per Capita [in USD]')\n",
        "plt.ylabel('Life Expectancy [in years]')\n",
        "plt.title('World Development in 2007')\n",
        "\n",
        "# Definition of tick_val and tick_lab\n",
        "tick_val = [1000, 10000, 100000]\n",
        "tick_lab = ['1k', '10k', '100k']\n",
        "\n",
        "# Adapt the ticks on the x-axis\n",
        "plt.xticks(tick_val, tick_lab)\n",
        "\n",
        "# After customizing, display the plot\n",
        "plt.show()"
      ],
      "execution_count": 5,
      "outputs": [
        {
          "output_type": "display_data",
          "data": {
            "image/png": "[encoded data removed]",
            "text/plain": [
              "<Figure size 432x288 with 1 Axes>"
            ]
          },
          "metadata": {
            "tags": [],
            "needs_background": "light"
          }
        }
      ]
    }
  ]
}