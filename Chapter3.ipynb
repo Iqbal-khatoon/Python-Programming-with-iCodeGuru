{
  "nbformat": 4,
  "nbformat_minor": 0,
  "metadata": {
    "colab": {
      "name": "Chapter3.ipynb",
      "provenance": [],
      "collapsed_sections": []
    },
    "kernelspec": {
      "name": "python3",
      "display_name": "Python 3"
    }
  },
  "cells": [
    {
      "cell_type": "code",
      "metadata": {
        "id": "KL3bZX0tK7Av"
      },
      "source": [
        "#3.1 == Writing your own functions\n",
        "#You will learn the art of function writing in this chapter\n",
        "#You'll be able to write your very own custom functions, \n",
        "#complete with multiple parameters and multiple return \n",
        "#values, along with default arguments and variable-length arguments. You'll \n",
        "#gain insight into scoping in Python and be able to write lambda functions and \n",
        "#handle errors in your function writing practice."
      ],
      "execution_count": null,
      "outputs": []
    },
    {
      "cell_type": "markdown",
      "metadata": {
        "id": "AylxcF89XaFS"
      },
      "source": [
        "Functions : Collection of instructions or\r\n",
        "collection of code."
      ]
    },
    {
      "cell_type": "code",
      "metadata": {
        "colab": {
          "base_uri": "https://localhost:8080/"
        },
        "id": "a7821Rp-YTIf",
        "outputId": "ddcfb209-4801-46ee-ed46-5ea88ed7d634"
      },
      "source": [
        "#Define the function\r\n",
        "def greetings():\r\n",
        "    print(\"Hii there\")\r\n",
        "    print(\"welcome to Python For Mathematicians\")\r\n",
        "print(\"This is outside the function\")"
      ],
      "execution_count": 31,
      "outputs": [
        {
          "output_type": "stream",
          "text": [
            "This is outside the function\n"
          ],
          "name": "stdout"
        }
      ]
    },
    {
      "cell_type": "code",
      "metadata": {
        "colab": {
          "base_uri": "https://localhost:8080/"
        },
        "id": "srcMdBpzYTFq",
        "outputId": "5525424b-7638-4edd-8f22-57a7e8731ee4"
      },
      "source": [
        "# Call function like the built in functions\r\n",
        "greetings()"
      ],
      "execution_count": 32,
      "outputs": [
        {
          "output_type": "stream",
          "text": [
            "Hii there\n",
            "welcome to Python For Mathematicians\n"
          ],
          "name": "stdout"
        }
      ]
    },
    {
      "cell_type": "code",
      "metadata": {
        "id": "bBmmBcsoMUI6",
        "colab": {
          "base_uri": "https://localhost:8080/"
        },
        "outputId": "791df943-446e-411a-8040-f6bf8ad1f054"
      },
      "source": [
        "#Write a simple function\n",
        "# Define the function \n",
        "def pakistan():\n",
        "    \"\"\"Print a string with three exclamation marks\"\"\"\n",
        "    # Concatenate the strings:\n",
        "    pakistan_word = 'USA' + '!!!'\n",
        "\n",
        "    # Print pakistan_word\n",
        "    print(pakistan_word)\n",
        "\n",
        "# Call pakistan\n",
        "pakistan()\n"
      ],
      "execution_count": 50,
      "outputs": [
        {
          "output_type": "stream",
          "text": [
            "USA!!!\n"
          ],
          "name": "stdout"
        }
      ]
    },
    {
      "cell_type": "markdown",
      "metadata": {
        "id": "DZSvGvNtX4Yl"
      },
      "source": [
        "Difference between print and pakistan??"
      ]
    },
    {
      "cell_type": "code",
      "metadata": {
        "id": "u-YuqyAAOYKI",
        "colab": {
          "base_uri": "https://localhost:8080/"
        },
        "outputId": "25f55013-a6b7-492e-dfa7-9a0e24bfde96"
      },
      "source": [
        "# Define shout with the parameter, word\n",
        "def shout(word):\n",
        "    \"\"\"Print a string with three exclamation marks\"\"\"\n",
        "    # Concatenate the strings: shout_word\n",
        "    shout_word = word + '!!!'\n",
        "\n",
        "    # Print shout_word\n",
        "    print(shout_word)\n",
        "# Call shout with the string 'congratulations'\n",
        "shout( input('enter a word: pak'))"
      ],
      "execution_count": 55,
      "outputs": [
        {
          "output_type": "stream",
          "text": [
            "enter a word: pakzindabad\n",
            "zindabad!!!\n"
          ],
          "name": "stdout"
        }
      ]
    },
    {
      "cell_type": "code",
      "metadata": {
        "id": "Z-0zoyyYYrzt"
      },
      "source": [
        "#difference between parameter and argument"
      ],
      "execution_count": null,
      "outputs": []
    },
    {
      "cell_type": "code",
      "metadata": {
        "colab": {
          "base_uri": "https://localhost:8080/"
        },
        "id": "MNJkzf6CUcLn",
        "outputId": "e73ee166-d252-422a-9f1b-2277e7581213"
      },
      "source": [
        "# two type of functions:\r\n",
        "#1..perform a task  (examples print and all above functions)\r\n",
        "print(\"Hello Pakistan\")\r\n",
        "\r\n",
        "#2.. return a value\r\n",
        "#calulates and returns some value \r\n",
        "round(22.4)"
      ],
      "execution_count": 49,
      "outputs": [
        {
          "output_type": "stream",
          "text": [
            "Hello Pakistan\n"
          ],
          "name": "stdout"
        },
        {
          "output_type": "execute_result",
          "data": {
            "text/plain": [
              "22"
            ]
          },
          "metadata": {
            "tags": []
          },
          "execution_count": 49
        }
      ]
    },
    {
      "cell_type": "code",
      "metadata": {
        "colab": {
          "base_uri": "https://localhost:8080/"
        },
        "id": "a1uyorFjU4m6",
        "outputId": "dbc3383a-6a52-4327-b1e5-d8676f26b4c6"
      },
      "source": [
        "# Define shout with the parameter, word\r\n",
        "def shout(word):\r\n",
        "    \"\"\"Print a string with three exclamation marks\"\"\"\r\n",
        "    # Concatenate the strings: shout_word\r\n",
        "    shout_word = word + '!!!'\r\n",
        "\r\n",
        "    # Print shout_word\r\n",
        "    print(shout_word)\r\n",
        "# Call shout with the string 'congratulations'\r\n",
        "shout( input('enter a word: pak'))\r\n",
        "\r\n",
        "#print(shout( input('enter a word: pak')))"
      ],
      "execution_count": 56,
      "outputs": [
        {
          "output_type": "stream",
          "text": [
            "enter a word: pakzindabad\n",
            "zindabad!!!\n"
          ],
          "name": "stdout"
        }
      ]
    },
    {
      "cell_type": "code",
      "metadata": {
        "id": "mCep02FDMt4g",
        "colab": {
          "base_uri": "https://localhost:8080/"
        },
        "outputId": "f63bec8e-d80a-41d8-fca2-f619dedd92e5"
      },
      "source": [
        "# Define shout with the parameter, word\n",
        "def shout(word):\n",
        "    \"\"\"Print a string with three exclamation marks\"\"\"\n",
        "    # Concatenate the strings: shout_word\n",
        "    shout_word = word + '!!!'\n",
        "\n",
        "    # Print shout_word\n",
        "    #print(shout_word)\n",
        "    return shout_word\n",
        "\n",
        "\n",
        "# Call shout with the string 'congratulations'\n",
        "output = shout('Pakistan')\n",
        "#now print it on a terminal\n",
        "print(output)"
      ],
      "execution_count": 58,
      "outputs": [
        {
          "output_type": "stream",
          "text": [
            "Pakistan!!!\n"
          ],
          "name": "stdout"
        }
      ]
    },
    {
      "cell_type": "code",
      "metadata": {
        "colab": {
          "base_uri": "https://localhost:8080/"
        },
        "id": "UD35c2uwauCK",
        "outputId": "bf039d5d-3e93-4208-94fd-6121cd35d90c"
      },
      "source": [
        "print(shout('Pakistan'))"
      ],
      "execution_count": 59,
      "outputs": [
        {
          "output_type": "stream",
          "text": [
            "Pakistan!!!\n"
          ],
          "name": "stdout"
        }
      ]
    },
    {
      "cell_type": "code",
      "metadata": {
        "colab": {
          "base_uri": "https://localhost:8080/"
        },
        "id": "JWg3n3Z7avKJ",
        "outputId": "ffb5259e-f78c-4c61-a9b1-a421fffed7f3"
      },
      "source": [
        "# demonstrate return statement  \r\n",
        "  \r\n",
        "def add(a, b): \r\n",
        "  \r\n",
        "    # returning sum of a and b \r\n",
        "    return a + b \r\n",
        "  \r\n",
        "def is_true(a): \r\n",
        "  \r\n",
        "    # returning boolean of a \r\n",
        "    return bool(a) \r\n",
        "  \r\n",
        "# calling function \r\n",
        "res = add(2, 3)\r\n",
        "print(\"Result of add function is\",res) \r\n",
        "  \r\n",
        "res = is_true(2<5) \r\n",
        "print(\"\\nResult of is_true function is\" ,res) "
      ],
      "execution_count": null,
      "outputs": [
        {
          "output_type": "stream",
          "text": [
            "Result of add function is 5\n",
            "\n",
            "Result of is_true function is True\n"
          ],
          "name": "stdout"
        }
      ]
    },
    {
      "cell_type": "code",
      "metadata": {
        "id": "59Kc5zgrMvq5",
        "colab": {
          "base_uri": "https://localhost:8080/"
        },
        "outputId": "0ee15fe5-721c-46c1-83a3-fd9c90bde326"
      },
      "source": [
        "# Define shout with the parameter, word\n",
        "def shout(word):\n",
        "    \"\"\"Return a string with three exclamation marks\"\"\"\n",
        "    # Concatenate the strings: shout_word\n",
        "    shout_word = word + '!!!'\n",
        "\n",
        "    # Replace print with return\n",
        "    return shout_word\n",
        "\n",
        "# Pass 'congratulations' to shout: yell\n",
        "yell = shout('congrats')\n",
        "bravo = shout('You have done a great Job Bravo')\n",
        "\n",
        "# Print yell\n",
        "print(yell)\n",
        "print(bravo)"
      ],
      "execution_count": null,
      "outputs": [
        {
          "output_type": "stream",
          "text": [
            "congrats!!!\n",
            "You have done a great Job Bravo!!!\n"
          ],
          "name": "stdout"
        }
      ]
    },
    {
      "cell_type": "code",
      "metadata": {
        "id": "3q2BuPsvM_WX",
        "colab": {
          "base_uri": "https://localhost:8080/"
        },
        "outputId": "0728165f-cb08-42e8-cdf9-c145d4a2e6ed"
      },
      "source": [
        "# Define shout with parameters word1 and word2\n",
        "def shout(word1, word2):\n",
        "    \"\"\"Concatenate strings with three exclamation marks\"\"\"\n",
        "    \n",
        "    # Concatenate word1 with word2: new_shout\n",
        "    new_shout = word1 + '!!! ' + word2 + '!!!' \n",
        "\n",
        "    # Return new_shout\n",
        "    return new_shout\n",
        "\n",
        "# Pass 'congratulations' and 'you' to shout(): yell\n",
        "yell = shout('usa' , 'china')\n",
        "\n",
        "# Print yell\n",
        "print(yell)"
      ],
      "execution_count": null,
      "outputs": [
        {
          "output_type": "stream",
          "text": [
            "usa!!! china!!!\n"
          ],
          "name": "stdout"
        }
      ]
    },
    {
      "cell_type": "code",
      "metadata": {
        "id": "4QhBII6GNN5w",
        "colab": {
          "base_uri": "https://localhost:8080/"
        },
        "outputId": "966ec7aa-8d20-4573-d40f-61a7aaa805ba"
      },
      "source": [
        "# Define shout_all with parameters word1 and word2\n",
        "def shout_all(word1, word2):\n",
        "    \n",
        "    # Concatenate word1 with '!!!': shout1\n",
        "    shout1 = word1 + '!!!'\n",
        "    \n",
        "    # Concatenate word2 with '!!!': shout2\n",
        "    shout2 = word2 + '!!!'\n",
        "    \n",
        "    # Construct a tuple with shout1 and shout2: shout_words\n",
        "    shout_words = (shout1 , shout2)\n",
        "\n",
        "    # Return shout_words\n",
        "    return shout_words\n",
        "\n",
        "# Pass 'congratulations' and 'you' to shout_all(): yell1, yell2\n",
        "yell1= shout_all('congratulations', 'you')\n",
        " \n",
        "# Print yell1 and yell2\n",
        "print(yell1)"
      ],
      "execution_count": null,
      "outputs": [
        {
          "output_type": "stream",
          "text": [
            "('congratulations!!!', 'you!!!')\n"
          ],
          "name": "stdout"
        }
      ]
    },
    {
      "cell_type": "code",
      "metadata": {
        "id": "yOMuZ9bMNYxr",
        "colab": {
          "base_uri": "https://localhost:8080/"
        },
        "outputId": "fa8c3300-a163-4584-f7a4-a06d7050f5bc"
      },
      "source": [
        "# Import pandas\n",
        "import pandas as pd\n",
        "\n",
        "# Import data as DataFrame: df\n",
        "df = pd.read_csv('Data1.csv')\n",
        "#print(df)\n",
        "# Initialize an empty dictionary: langs_count\n",
        "langs_count = {}\n",
        "\n",
        "# Extract column from DataFrame: col\n",
        "col = df['cpc']\n",
        "print(col)\n",
        "# Iterate over lang column in DataFrame\n",
        "for entry in col:\n",
        "\n",
        "    # If the language is in langs_count, add 1 \n",
        "    if entry in langs_count.keys():\n",
        "        langs_count[entry] += 1\n",
        "    # Else add the language to langs_count, set the value to 1\n",
        "    else:\n",
        "        langs_count[entry] = 1\n",
        "\n",
        "# Print the populated dictionary\n",
        "print(langs_count)"
      ],
      "execution_count": null,
      "outputs": [
        {
          "output_type": "stream",
          "text": [
            "0     44\n",
            "1     27\n",
            "2     30\n",
            "3     38\n",
            "4     40\n",
            "5     35\n",
            "6     52\n",
            "7     48\n",
            "8     50\n",
            "9     37\n",
            "10    50\n",
            "Name: cpc, dtype: int64\n",
            "{44: 1, 27: 1, 30: 1, 38: 1, 40: 1, 35: 1, 52: 1, 48: 1, 50: 2, 37: 1}\n"
          ],
          "name": "stdout"
        }
      ]
    },
    {
      "cell_type": "code",
      "metadata": {
        "id": "JR_0HaPPNtPg",
        "colab": {
          "base_uri": "https://localhost:8080/"
        },
        "outputId": "c65c0e75-260e-48f4-88ab-63a84c739692"
      },
      "source": [
        "# Define count_entries()\n",
        "def count_entries(df, col_name):\n",
        "    \"\"\"Return a dictionary with counts of \n",
        "    occurrences as value for each key.\"\"\"\n",
        "\n",
        "    # Initialize an empty dictionary: langs_count\n",
        "    langs_count = {}\n",
        "    \n",
        "    # Extract column from DataFrame: col\n",
        "    col = df[col_name]\n",
        "    \n",
        "    # Iterate over lang column in DataFrame\n",
        "    for entry in col:\n",
        "\n",
        "        # If the language is in langs_count, add 1\n",
        "        if entry in langs_count.keys():\n",
        "            langs_count[entry] += 1\n",
        "        # Else add the language to langs_count, set the value to 1\n",
        "        else:\n",
        "            langs_count[entry] = 1\n",
        "\n",
        "    # Return the langs_count dictionary\n",
        "    return langs_count\n",
        "\n",
        "# Call count_entries(): result\n",
        "result = count_entries(df, 'cpc')\n",
        "\n",
        "# Print the result\n",
        "print(result)"
      ],
      "execution_count": null,
      "outputs": [
        {
          "output_type": "stream",
          "text": [
            "{44: 1, 27: 1, 30: 1, 38: 1, 40: 1, 35: 1, 52: 1, 48: 1, 50: 2, 37: 1}\n"
          ],
          "name": "stdout"
        }
      ]
    },
    {
      "cell_type": "code",
      "metadata": {
        "id": "D2GdZXqNLcNX"
      },
      "source": [
        "# 3.2 == Default arguments, variable-length arguments and scope\n",
        "# local and global, nonlocal \n",
        "#you'll learn to write functions with default arguments so that \n",
        "#the user doesn't always need to specify them, and variable-length \n",
        "#arguments so they can pass an arbitrary number of arguments on to your functions"
      ],
      "execution_count": null,
      "outputs": []
    },
    {
      "cell_type": "code",
      "metadata": {
        "id": "k35pWrbBSii3"
      },
      "source": [
        "#you will use the keyword global within a function to alter the value of a \n",
        "#variable defined in the global scope"
      ],
      "execution_count": null,
      "outputs": []
    },
    {
      "cell_type": "code",
      "metadata": {
        "id": "BY3B3P7MSmYL",
        "colab": {
          "base_uri": "https://localhost:8080/",
          "height": 52
        },
        "outputId": "8af8586b-64b2-4833-f09a-c706ff680b0e"
      },
      "source": [
        "# Create a string: team\n",
        "team = \"teen titans\"\n",
        "\n",
        "# Define change_team()\n",
        "def change_team():\n",
        "    \"\"\"Change the value of the global variable team.\"\"\"\n",
        "\n",
        "    # Use team in global scope\n",
        "    global team\n",
        "\n",
        "    # Change the value of team in global: team\n",
        "    team = \"justice league\"\n",
        "# Print team\n",
        "print(team)\n",
        "\n",
        "# Call change_team()\n",
        "change_team()\n",
        "\n",
        "# Print team\n",
        "print(team)"
      ],
      "execution_count": null,
      "outputs": [
        {
          "output_type": "stream",
          "text": [
            "teen titans\n",
            "teen titans\n"
          ],
          "name": "stdout"
        }
      ]
    },
    {
      "cell_type": "code",
      "metadata": {
        "id": "KN5ZqpogSwbP",
        "colab": {
          "base_uri": "https://localhost:8080/",
          "height": 35
        },
        "outputId": "4b242204-fc55-46eb-dc4a-26ebf6e2ba30"
      },
      "source": [
        "#Nested Functions I\n",
        "\n",
        "# Define three_shouts\n",
        "def three_shouts(word1, word2, word3):\n",
        "    \"\"\"Returns a tuple of strings\n",
        "    concatenated with '!!!'.\"\"\"\n",
        "\n",
        "    # Define inner\n",
        "    def inner(word):\n",
        "        \"\"\"Returns a string concatenated with '!!!'.\"\"\"\n",
        "        return word + '!!!'\n",
        "\n",
        "    # Return a tuple of strings\n",
        "    return (inner(word1), inner(word2), inner(word3))\n",
        "pakistan=three_shouts('a', 'b', 'c')\n",
        "# Call three_shouts() and print\n",
        "#print(three_shouts('a', 'b', 'c'))\n",
        "pakistan"
      ],
      "execution_count": null,
      "outputs": [
        {
          "output_type": "execute_result",
          "data": {
            "text/plain": [
              "('a!!!', 'b!!!', 'c!!!')"
            ]
          },
          "metadata": {
            "tags": []
          },
          "execution_count": 23
        }
      ]
    },
    {
      "cell_type": "code",
      "metadata": {
        "id": "b4nMod-LS7pU",
        "colab": {
          "base_uri": "https://localhost:8080/",
          "height": 52
        },
        "outputId": "8291ffa1-ff91-457b-8f02-f1f625ecccce"
      },
      "source": [
        "#Nested Functions II\n",
        "\n",
        "# Define echo\n",
        "def echo(n):\n",
        "    \"\"\"Return the inner_echo function.\"\"\"\n",
        "\n",
        "    # Define inner_echo\n",
        "    def inner_echo(word1):\n",
        "        \"\"\"Concatenate n copies of word1.\"\"\"\n",
        "        echo_word = word1 * n\n",
        "        return echo_word\n",
        "\n",
        "    # Return inner_echo\n",
        "    return inner_echo\n",
        "#inner_echo()\n",
        "# Call echo: twice\n",
        "one = echo(2)\n",
        "\n",
        "# Call echo: thrice\n",
        "two = echo(3)\n",
        "print(echo(2))\n",
        "# Call twice() and thrice() then print\n",
        "print(one('hello'), two('hello'))"
      ],
      "execution_count": null,
      "outputs": [
        {
          "output_type": "stream",
          "text": [
            "<function echo.<locals>.inner_echo at 0x7fde7ad410d0>\n",
            "hellohello hellohellohello\n"
          ],
          "name": "stdout"
        }
      ]
    },
    {
      "cell_type": "code",
      "metadata": {
        "id": "OcX5ibeZS_i9",
        "colab": {
          "base_uri": "https://localhost:8080/",
          "height": 52
        },
        "outputId": "b93691a0-a9f6-4bd4-e775-77496bf35dbb"
      },
      "source": [
        "#keyword nonlocal and nested functions\n",
        "\n",
        "# Define echo_shout()\n",
        "def echo_shout(word):\n",
        "    \"\"\"Change the value of a nonlocal variable\"\"\"\n",
        "    \n",
        "    # Concatenate word with itself: echo_word\n",
        "    echo_word = word*2\n",
        "    \n",
        "    # Print echo_word\n",
        "    print(echo_word)\n",
        "    \n",
        "    # Define inner function shout()\n",
        "    def shout():\n",
        "        \"\"\"Alter a variable in the enclosing scope\"\"\"    \n",
        "        # Use echo_word in nonlocal scope\n",
        "        nonlocal echo_word\n",
        "        \n",
        "        # Change echo_word to echo_word concatenated with '!!!'\n",
        "        echo_word = echo_word + '!!!'\n",
        "    \n",
        "    # Call function shout()\n",
        "    shout()\n",
        "    \n",
        "    # Print echo_word\n",
        "    print(echo_word)\n",
        "\n",
        "# Call function echo_shout() with argument 'hello'\n",
        "echo_shout('hello')"
      ],
      "execution_count": null,
      "outputs": [
        {
          "output_type": "stream",
          "text": [
            "hellohello\n",
            "hellohello!!!\n"
          ],
          "name": "stdout"
        }
      ]
    },
    {
      "cell_type": "code",
      "metadata": {
        "id": "Q4cM_aEjTLo8",
        "colab": {
          "base_uri": "https://localhost:8080/",
          "height": 52
        },
        "outputId": "821aa1d5-7d8f-4cdc-bd13-775d6262bcc7"
      },
      "source": [
        "#Functions with one default argument\n",
        "\n",
        "# Define shout_echo\n",
        "def shout_echo(word1, echo=1):\n",
        "    \"\"\"Concatenate echo copies of word1 and three\n",
        "     exclamation marks at the end of the string.\"\"\"\n",
        "\n",
        "    # Concatenate echo copies of word1 using *: echo_word\n",
        "    echo_word = word1 * echo\n",
        "\n",
        "    # Concatenate '!!!' to echo_word: shout_word\n",
        "    shout_word = echo_word + '!!!'\n",
        "\n",
        "    # Return shout_word\n",
        "    return shout_word\n",
        "\n",
        "# Call shout_echo() with \"Hey\": no_echo\n",
        "no_echo = shout_echo(\"Hey\")\n",
        "\n",
        "# Call shout_echo() with \"Hey\" and echo=5: with_echo\n",
        "with_echo = shout_echo(\"Hey\", 5)\n",
        "\n",
        "# Print no_echo and with_echo\n",
        "print(no_echo)\n",
        "print(with_echo)"
      ],
      "execution_count": null,
      "outputs": [
        {
          "output_type": "stream",
          "text": [
            "Hey!!!\n",
            "HeyHeyHeyHeyHey!!!\n"
          ],
          "name": "stdout"
        }
      ]
    },
    {
      "cell_type": "code",
      "metadata": {
        "id": "_7U1jtOTTRRm",
        "colab": {
          "base_uri": "https://localhost:8080/",
          "height": 52
        },
        "outputId": "7727bc8f-41e8-4ee9-f02e-cce0c31a6255"
      },
      "source": [
        "#Functions with multiple default arguments\n",
        "\n",
        "# Define shout_echo\n",
        "def shout_echo(word1, echo=1, intense='False'):\n",
        "    \"\"\"Concatenate echo copies of word1 and three\n",
        "    exclamation marks at the end of the string.\"\"\"\n",
        "\n",
        "    # Concatenate echo copies of word1 using *: echo_word\n",
        "    echo_word = word1 * echo\n",
        "\n",
        "    # Make echo_word uppercase if intense is True\n",
        "    if intense is True:\n",
        "        # Make uppercase and concatenate '!!!': echo_word_new\n",
        "        echo_word_new = echo_word.upper() + '!!!'\n",
        "    else:\n",
        "        # Concatenate '!!!' to echo_word: echo_word_new\n",
        "        echo_word_new = echo_word + '!!!'\n",
        "\n",
        "    # Return echo_word_new\n",
        "    return echo_word_new\n",
        "\n",
        "# Call shout_echo() with \"Hey\", echo=5 and intense=True: with_big_echo\n",
        "with_big_echo = shout_echo(\"Hey\", 5, True)\n",
        "\n",
        "# Call shout_echo() with \"Hey\" and intense=True: big_no_echo\n",
        "big_no_echo = shout_echo(\"Hey\" , intense=True)\n",
        "\n",
        "# Print values\n",
        "print(with_big_echo)\n",
        "print(big_no_echo)"
      ],
      "execution_count": null,
      "outputs": [
        {
          "output_type": "stream",
          "text": [
            "HEYHEYHEYHEYHEY!!!\n",
            "HEY!!!\n"
          ],
          "name": "stdout"
        }
      ]
    },
    {
      "cell_type": "code",
      "metadata": {
        "id": "JH9RGOBnTYAD",
        "colab": {
          "base_uri": "https://localhost:8080/",
          "height": 244
        },
        "outputId": "d641aa90-5ccf-4c39-d155-4fc78f99e2db"
      },
      "source": [
        "#Functions with variable-length arguments (*args)\n",
        "\n",
        "# Define gibberish\n",
        "def gibberish(*args):\n",
        "    \"\"\"Concatenate strings in *args together.\"\"\"\n",
        "\n",
        "    # Initialize an empty string: hodgepodge\n",
        "    hodgepodge = ''\n",
        "\n",
        "    # Concatenate the strings in args\n",
        "    for word in args:\n",
        "        hodgepodge += word\n",
        "\n",
        "    # Return hodgepodge\n",
        "    return hodgepodge\n",
        "\n",
        "# Call gibberish() with one string: one_word\n",
        "one_word = gibberish(\"luke\")\n",
        "\n",
        "# Call gibberish() with five strings: many_words\n",
        "many_words = gibberish()\n",
        "\n",
        "# Print one_word and many_words\n",
        "print(one_word)\n",
        "print(many_words)"
      ],
      "execution_count": null,
      "outputs": [
        {
          "output_type": "error",
          "ename": "TypeError",
          "evalue": "ignored",
          "traceback": [
            "\u001b[0;31m---------------------------------------------------------------------------\u001b[0m",
            "\u001b[0;31mTypeError\u001b[0m                                 Traceback (most recent call last)",
            "\u001b[0;32m<ipython-input-9-9e9245e8f63e>\u001b[0m in \u001b[0;36m<module>\u001b[0;34m()\u001b[0m\n\u001b[1;32m     19\u001b[0m \u001b[0;34m\u001b[0m\u001b[0m\n\u001b[1;32m     20\u001b[0m \u001b[0;31m# Call gibberish() with five strings: many_words\u001b[0m\u001b[0;34m\u001b[0m\u001b[0;34m\u001b[0m\u001b[0;34m\u001b[0m\u001b[0m\n\u001b[0;32m---> 21\u001b[0;31m \u001b[0mmany_words\u001b[0m \u001b[0;34m=\u001b[0m \u001b[0mgibberish\u001b[0m\u001b[0;34m(\u001b[0m\u001b[0mone\u001b[0m \u001b[0;34m=\u001b[0m \u001b[0;36m1\u001b[0m\u001b[0;34m)\u001b[0m\u001b[0;34m\u001b[0m\u001b[0;34m\u001b[0m\u001b[0m\n\u001b[0m\u001b[1;32m     22\u001b[0m \u001b[0;34m\u001b[0m\u001b[0m\n\u001b[1;32m     23\u001b[0m \u001b[0;31m# Print one_word and many_words\u001b[0m\u001b[0;34m\u001b[0m\u001b[0;34m\u001b[0m\u001b[0;34m\u001b[0m\u001b[0m\n",
            "\u001b[0;31mTypeError\u001b[0m: gibberish() got an unexpected keyword argument 'one'"
          ]
        }
      ]
    },
    {
      "cell_type": "code",
      "metadata": {
        "id": "uo4c9UmjTg3S",
        "colab": {
          "base_uri": "https://localhost:8080/",
          "height": 295
        },
        "outputId": "11fd319a-c171-4ff8-8cba-ade73e1de3d6"
      },
      "source": [
        "#Functions with variable-length keyword arguments (**kwargs)\n",
        "\n",
        "# Define report_status\n",
        "def report_status(**kwargs):\n",
        "    \"\"\"Print out the status of a movie character.\"\"\"\n",
        "\n",
        "    print(\"\\nBEGIN: REPORT\\n\")\n",
        "\n",
        "    # Iterate over the key-value pairs of kwargs\n",
        "    for key, value in kwargs.items():\n",
        "        # Print out the keys and values, separated by a colon ':'\n",
        "        print(key + \": \" + value)\n",
        "\n",
        "    print(\"\\nEND REPORT\")\n",
        "\n",
        "# First call to report_status()\n",
        "report_status(name=\"luke\", affiliation=\"jedi\", status=\"missing\")\n",
        "\n",
        "# Second call to report_status()\n",
        "report_status(name=\"anakin\", affiliation=\"sith lord\", status=\"deceased\")"
      ],
      "execution_count": null,
      "outputs": [
        {
          "output_type": "stream",
          "text": [
            "\n",
            "BEGIN: REPORT\n",
            "\n",
            "name: luke\n",
            "affiliation: jedi\n",
            "status: missing\n",
            "\n",
            "END REPORT\n",
            "\n",
            "BEGIN: REPORT\n",
            "\n",
            "name: anakin\n",
            "affiliation: sith lord\n",
            "status: deceased\n",
            "\n",
            "END REPORT\n"
          ],
          "name": "stdout"
        }
      ]
    },
    {
      "cell_type": "code",
      "metadata": {
        "id": "nL7SPfdPTp8r"
      },
      "source": [
        "#example and revision 1\n",
        "\n",
        "# Define count_entries()\n",
        "def count_entries(df, col_name):\n",
        "    \"\"\"Return a dictionary with counts of\n",
        "    occurrences as value for each key.\"\"\"\n",
        "\n",
        "    # Initialize an empty dictionary: cols_count\n",
        "    cols_count = {}\n",
        "\n",
        "    # Extract column from DataFrame: col\n",
        "    col = df[col_name]\n",
        "    \n",
        "    # Iterate over the column in DataFrame\n",
        "    for entry in col:\n",
        "\n",
        "        # If entry is in cols_count, add 1\n",
        "        if entry in cols_count.keys():\n",
        "            cols_count[entry] += 1\n",
        "\n",
        "        # Else add the entry to cols_count, set the value to 1\n",
        "        else:\n",
        "            cols_count[entry] = 1\n",
        "\n",
        "    # Return the cols_count dictionary\n",
        "    return cols_count\n",
        "\n",
        "# Call count_entries(): result1\n",
        "result1 = count_entries(tweets_df, 'lang')\n",
        "\n",
        "# Call count_entries(): result2\n",
        "result2 = count_entries(tweets_df, 'source')\n",
        "\n",
        "# Print result1 and result2\n",
        "print(result1)\n",
        "print(result2)"
      ],
      "execution_count": null,
      "outputs": []
    },
    {
      "cell_type": "code",
      "metadata": {
        "id": "EycpiU1ZT1Wb"
      },
      "source": [
        "#example and review 2\n",
        "\n",
        "# Define count_entries()\n",
        "def count_entries(df, *args):\n",
        "    \"\"\"Return a dictionary with counts of\n",
        "    occurrences as value for each key.\"\"\"\n",
        "    \n",
        "    #Initialize an empty dictionary: cols_count\n",
        "    cols_count = {}\n",
        "    \n",
        "    # Iterate over column names in args\n",
        "    for col_name in args:\n",
        "    \n",
        "        # Extract column from DataFrame: col\n",
        "        col = df[col_name]\n",
        "    \n",
        "        # Iterate over the column in DataFrame\n",
        "        for entry in col:\n",
        "    \n",
        "            # If entry is in cols_count, add 1\n",
        "            if entry in cols_count.keys():\n",
        "                cols_count[entry] += 1\n",
        "    \n",
        "            # Else add the entry to cols_count, set the value to 1\n",
        "            else:\n",
        "                cols_count[entry] = 1\n",
        "\n",
        "    # Return the cols_count dictionary\n",
        "    return cols_count\n",
        "\n",
        "# Call count_entries(): result1\n",
        "result1 = count_entries(tweets_df, 'lang')\n",
        "\n",
        "# Call count_entries(): result2\n",
        "result2 = count_entries(tweets_df, 'lang', 'source')\n",
        "\n",
        "# Print result1 and result2\n",
        "print(result1)\n",
        "print(result2)"
      ],
      "execution_count": null,
      "outputs": []
    },
    {
      "cell_type": "code",
      "metadata": {
        "id": "b2Y_AufyLgg7"
      },
      "source": [
        "\n",
        "# 3.3 == Lambda functions and error-handling\n",
        "#Learn about lambda functions, which allow you to write functions quickly \n",
        "#and on the fly. You'll also practice handling errors in your functions, \n",
        "#which is an essential skill\n"
      ],
      "execution_count": null,
      "outputs": []
    },
    {
      "cell_type": "code",
      "metadata": {
        "id": "EyuBdh5dgbtL"
      },
      "source": [
        "A lambda function can take any number of arguments, but can only have one expression."
      ],
      "execution_count": null,
      "outputs": []
    },
    {
      "cell_type": "code",
      "metadata": {
        "id": "2FZRQTB1gdRB",
        "colab": {
          "base_uri": "https://localhost:8080/",
          "height": 35
        },
        "outputId": "2e343c01-b349-4d7d-af0a-faaaffb92c09"
      },
      "source": [
        "x = lambda a : a + 10\n",
        "print(x(2))"
      ],
      "execution_count": null,
      "outputs": [
        {
          "output_type": "stream",
          "text": [
            "12\n"
          ],
          "name": "stdout"
        }
      ]
    },
    {
      "cell_type": "code",
      "metadata": {
        "id": "eqC_fTz_gi_I",
        "colab": {
          "base_uri": "https://localhost:8080/",
          "height": 35
        },
        "outputId": "b77862c9-fa92-426c-dfc0-8a17fa12d306"
      },
      "source": [
        "x = lambda a, b : a * b\n",
        "print(x(5, 6))"
      ],
      "execution_count": null,
      "outputs": [
        {
          "output_type": "stream",
          "text": [
            "30\n"
          ],
          "name": "stdout"
        }
      ]
    },
    {
      "cell_type": "code",
      "metadata": {
        "id": "Z5oT_kzcgm66",
        "colab": {
          "base_uri": "https://localhost:8080/",
          "height": 35
        },
        "outputId": "6dec6f61-ac08-4786-a4ad-234db5daec7d"
      },
      "source": [
        "x = lambda a, b, c : a + b + c\n",
        "print(x(5, 6, 2))"
      ],
      "execution_count": null,
      "outputs": [
        {
          "output_type": "stream",
          "text": [
            "13\n"
          ],
          "name": "stdout"
        }
      ]
    },
    {
      "cell_type": "code",
      "metadata": {
        "id": "VqwmyRlugu2Z",
        "colab": {
          "base_uri": "https://localhost:8080/",
          "height": 35
        },
        "outputId": "7fca0414-c0a4-4b74-81e9-867d88321f19"
      },
      "source": [
        "# function of function or nested function\n",
        "\n",
        "def myfunc(n):\n",
        "  return lambda a : a * n\n",
        "\n",
        "mytripler = myfunc(3)\n",
        "print(mytripler(5))"
      ],
      "execution_count": null,
      "outputs": [
        {
          "output_type": "stream",
          "text": [
            "15\n"
          ],
          "name": "stdout"
        }
      ]
    },
    {
      "cell_type": "code",
      "metadata": {
        "id": "6E-Z9M6bRg4j",
        "colab": {
          "base_uri": "https://localhost:8080/",
          "height": 35
        },
        "outputId": "2ec82b8d-d2ff-48e2-f70f-c6ad35549fd5"
      },
      "source": [
        "# Define echo_word as a lambda function: echo_word\n",
        "echo_word = (lambda word1, echo: word1 * echo)\n",
        "\n",
        "# Call echo_word: result\n",
        "result = echo_word('hey', 3)\n",
        "\n",
        "# Print result\n",
        "print(result)"
      ],
      "execution_count": null,
      "outputs": [
        {
          "output_type": "stream",
          "text": [
            "heyheyhey\n"
          ],
          "name": "stdout"
        }
      ]
    },
    {
      "cell_type": "code",
      "metadata": {
        "id": "SdA8OEtJRhw5",
        "colab": {
          "base_uri": "https://localhost:8080/",
          "height": 52
        },
        "outputId": "d1fedd2b-e99d-4069-daab-a74697c3dd67"
      },
      "source": [
        "# Create a list of strings: spells\n",
        "spells = ['protego', 'accio', 'expecto patronum', 'legilimens']\n",
        "\n",
        "# Use map() to apply a lambda function over spells: shout_spells\n",
        "shout_spells = map(lambda item: item + '!!!', spells)\n",
        "#print(item)\n",
        "# Convert shout_spells to a list: shout_spells_list\n",
        "shout_spells_list = list(shout_spells)\n",
        "print(type(shout_spells))\n",
        "# Print the result\n",
        "print(shout_spells_list)"
      ],
      "execution_count": null,
      "outputs": [
        {
          "output_type": "stream",
          "text": [
            "<class 'map'>\n",
            "['protego!!!', 'accio!!!', 'expecto patronum!!!', 'legilimens!!!']\n"
          ],
          "name": "stdout"
        }
      ]
    },
    {
      "cell_type": "code",
      "metadata": {
        "id": "q8ApZTHORwQe",
        "colab": {
          "base_uri": "https://localhost:8080/",
          "height": 35
        },
        "outputId": "96936a85-796d-4f42-9c8a-464f8fee40fd"
      },
      "source": [
        "# Create a list of strings: fellowship\n",
        "fellowship = ['frodo', 'samwise', 'merry', 'pippin', 'aragorn', 'boromir', 'legolas', 'gimli', 'gandalf']\n",
        "#print(fellowship[2])\n",
        "# Use filter() to apply a lambda function over fellowship: result\n",
        "result = filter(lambda member: len(member) > 6, fellowship)\n",
        "\n",
        "# Convert result to a list: result_list\n",
        "result_list = list(result)\n",
        "\n",
        "# Print result_list\n",
        "print(result_list)"
      ],
      "execution_count": null,
      "outputs": [
        {
          "output_type": "stream",
          "text": [
            "['samwise', 'aragorn', 'boromir', 'legolas', 'gandalf']\n"
          ],
          "name": "stdout"
        }
      ]
    },
    {
      "cell_type": "code",
      "metadata": {
        "id": "qIGaFOeASA0V",
        "colab": {
          "base_uri": "https://localhost:8080/",
          "height": 35
        },
        "outputId": "740ee3b9-ba20-436c-e373-8db9a9cf0a78"
      },
      "source": [
        "# Import reduce from functools\n",
        "from functools import reduce\n",
        "\n",
        "# Create a list of strings: stark\n",
        "stark = ['robb', 'sansa', 'arya', 'brandon', 'rickon']\n",
        "\n",
        "# Use reduce() to apply a lambda function over stark: result\n",
        "result = reduce(lambda item1, item2: item1 + item2, stark)\n",
        "\n",
        "# Print the result\n",
        "print(result)"
      ],
      "execution_count": null,
      "outputs": [
        {
          "output_type": "stream",
          "text": [
            "robbsansaaryabrandonrickon\n"
          ],
          "name": "stdout"
        }
      ]
    },
    {
      "cell_type": "code",
      "metadata": {
        "id": "4Hd9Lh-WSPoT",
        "colab": {
          "base_uri": "https://localhost:8080/",
          "height": 53
        },
        "outputId": "287da767-2f2a-49fa-b7a0-9871d3c5699b"
      },
      "source": [
        "# Define shout_echo\n",
        "def shout_echo(word1, echo=1):\n",
        "    \"\"\"Concatenate echo copies of word1 and three\n",
        "    exclamation marks at the end of the string.\"\"\"\n",
        "\n",
        "    # Initialize empty strings: echo_word, shout_words\n",
        "    echo_word = ''\n",
        "    shout_words = ''\n",
        "\n",
        "    # Add exception handling with try-except\n",
        "    try:\n",
        "        # Concatenate echo copies of word1 using *: echo_word\n",
        "        echo_word = word1 * echo\n",
        "\n",
        "        # Concatenate '!!!' to echo_word: shout_words\n",
        "        shout_words = echo_word + '!!!'\n",
        "    except:\n",
        "        # Print error message\n",
        "        print(\"word1 must be a string and echo must be an integer.\")\n",
        "\n",
        "    # Return shout_words\n",
        "    return shout_words\n",
        "\n",
        "# Call shout_echo\n",
        "shout_echo(\"particle\", echo=\"accelerator\")"
      ],
      "execution_count": null,
      "outputs": [
        {
          "output_type": "stream",
          "text": [
            "word1 must be a string and echo must be an integer.\n"
          ],
          "name": "stdout"
        },
        {
          "output_type": "execute_result",
          "data": {
            "application/vnd.google.colaboratory.intrinsic+json": {
              "type": "string"
            },
            "text/plain": [
              "''"
            ]
          },
          "metadata": {
            "tags": []
          },
          "execution_count": 51
        }
      ]
    },
    {
      "cell_type": "code",
      "metadata": {
        "id": "-zmwix7cSgKU",
        "colab": {
          "base_uri": "https://localhost:8080/",
          "height": 322
        },
        "outputId": "c2bddbaa-5d42-4357-cd05-fef8f60fcb9c"
      },
      "source": [
        "# Define shout_echo\n",
        "def shout_echo(word1, echo=1):\n",
        "    \"\"\"Concatenate echo copies of word1 and three\n",
        "    exclamation marks at the end of the string.\"\"\"\n",
        "\n",
        "    # Raise an error with raise\n",
        "    if echo < 0:\n",
        "        raise ValueError('echo must be greater than or equal to 0')\n",
        "\n",
        "    # Concatenate echo copies of word1 using *: echo_word\n",
        "    echo_word = word1 * echo\n",
        "\n",
        "    # Concatenate '!!!' to echo_word: shout_word\n",
        "    shout_word = echo_word + '!!!'\n",
        "\n",
        "    # Return shout_word\n",
        "    return shout_word\n",
        "\n",
        "# Call shout_echo\n",
        "shout_echo(\"particle\", echo=-5)"
      ],
      "execution_count": null,
      "outputs": [
        {
          "output_type": "error",
          "ename": "ValueError",
          "evalue": "ignored",
          "traceback": [
            "\u001b[0;31m---------------------------------------------------------------------------\u001b[0m",
            "\u001b[0;31mValueError\u001b[0m                                Traceback (most recent call last)",
            "\u001b[0;32m<ipython-input-55-2e58322c8494>\u001b[0m in \u001b[0;36m<module>\u001b[0;34m()\u001b[0m\n\u001b[1;32m     18\u001b[0m \u001b[0;34m\u001b[0m\u001b[0m\n\u001b[1;32m     19\u001b[0m \u001b[0;31m# Call shout_echo\u001b[0m\u001b[0;34m\u001b[0m\u001b[0;34m\u001b[0m\u001b[0;34m\u001b[0m\u001b[0m\n\u001b[0;32m---> 20\u001b[0;31m \u001b[0mshout_echo\u001b[0m\u001b[0;34m(\u001b[0m\u001b[0;34m\"particle\"\u001b[0m\u001b[0;34m,\u001b[0m \u001b[0mecho\u001b[0m\u001b[0;34m=\u001b[0m\u001b[0;34m-\u001b[0m\u001b[0;36m5\u001b[0m\u001b[0;34m)\u001b[0m\u001b[0;34m\u001b[0m\u001b[0;34m\u001b[0m\u001b[0m\n\u001b[0m",
            "\u001b[0;32m<ipython-input-55-2e58322c8494>\u001b[0m in \u001b[0;36mshout_echo\u001b[0;34m(word1, echo)\u001b[0m\n\u001b[1;32m      6\u001b[0m     \u001b[0;31m# Raise an error with raise\u001b[0m\u001b[0;34m\u001b[0m\u001b[0;34m\u001b[0m\u001b[0;34m\u001b[0m\u001b[0m\n\u001b[1;32m      7\u001b[0m     \u001b[0;32mif\u001b[0m \u001b[0mecho\u001b[0m \u001b[0;34m<\u001b[0m \u001b[0;36m0\u001b[0m\u001b[0;34m:\u001b[0m\u001b[0;34m\u001b[0m\u001b[0;34m\u001b[0m\u001b[0m\n\u001b[0;32m----> 8\u001b[0;31m         \u001b[0;32mraise\u001b[0m \u001b[0mValueError\u001b[0m\u001b[0;34m(\u001b[0m\u001b[0;34m'echo must be greater than or equal to 0'\u001b[0m\u001b[0;34m)\u001b[0m\u001b[0;34m\u001b[0m\u001b[0;34m\u001b[0m\u001b[0m\n\u001b[0m\u001b[1;32m      9\u001b[0m \u001b[0;34m\u001b[0m\u001b[0m\n\u001b[1;32m     10\u001b[0m     \u001b[0;31m# Concatenate echo copies of word1 using *: echo_word\u001b[0m\u001b[0;34m\u001b[0m\u001b[0;34m\u001b[0m\u001b[0;34m\u001b[0m\u001b[0m\n",
            "\u001b[0;31mValueError\u001b[0m: echo must be greater than or equal to 0"
          ]
        }
      ]
    },
    {
      "cell_type": "code",
      "metadata": {
        "id": "M3dl9V7zSzL6"
      },
      "source": [
        ""
      ],
      "execution_count": null,
      "outputs": []
    }
  ]
}