{
  "nbformat": 4,
  "nbformat_minor": 0,
  "metadata": {
    "colab": {
      "name": "Chapter1.ipynb",
      "provenance": [],
      "collapsed_sections": []
    },
    "kernelspec": {
      "name": "python3",
      "display_name": "Python 3"
    }
  },
  "cells": [
    {
      "cell_type": "markdown",
      "metadata": {
        "id": "3e7I7xxKFePg"
      },
      "source": [
        "## **1. Introduction to Python** "
      ]
    },
    {
      "cell_type": "code",
      "metadata": {
        "id": "8-xVikksuQN8"
      },
      "source": [
        "#intro to python Week1 March-1 to March-5 2021"
      ],
      "execution_count": null,
      "outputs": []
    },
    {
      "cell_type": "code",
      "metadata": {
        "id": "8n33Hbunn8Hp"
      },
      "source": [
        "#1.1 == Python Basics or Fundamentals\n",
        "#What is Pyhton #what Python can do?#Datatype #integer, float, string, print, add, subtract, multiply, divide, modulos, \n",
        "#exponential, variable, changing float to int\n",
        "#Google Colab introduction"
      ],
      "execution_count": null,
      "outputs": []
    },
    {
      "cell_type": "markdown",
      "metadata": {
        "id": "quKRrccXF9SD"
      },
      "source": [
        "#What is Pyhton?\r\n",
        "Pyhton is a General purpose programming language. It was created by Guido van Rossum, and released in 1991. ![gd.jpg](data:image/jpeg;base64,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)"
      ]
    },
    {
      "cell_type": "markdown",
      "metadata": {
        "id": "BUe68gLNMO2s"
      },
      "source": [
        "We can almost build any thing with Python.\r\n",
        "\r\n",
        "It's Open Source, Free!\r\n",
        "\r\n",
        "used for Mathematics, build a any piece of softwrae, can build Applications etc. \r\n"
      ]
    },
    {
      "cell_type": "markdown",
      "metadata": {
        "id": "9n4eDGx_FopG"
      },
      "source": [
        ""
      ]
    },
    {
      "cell_type": "code",
      "metadata": {
        "id": "9ZOhUjz2nMJ6",
        "colab": {
          "base_uri": "https://localhost:8080/"
        },
        "outputId": "8c3c9489-fbcb-45be-d8f7-cac0053977c5"
      },
      "source": [
        "#Python as a calculator\n",
        "#Addition, subtraction\n",
        "print(5 + 5)\n",
        "print(5 - 5)\n",
        "print(\"my name is ....\")"
      ],
      "execution_count": null,
      "outputs": [
        {
          "output_type": "stream",
          "text": [
            "10\n",
            "0\n",
            "my name is ....\n"
          ],
          "name": "stdout"
        }
      ]
    },
    {
      "cell_type": "code",
      "metadata": {
        "id": "UOLBDg1Bhngc",
        "colab": {
          "base_uri": "https://localhost:8080/"
        },
        "outputId": "321580d4-796d-4c70-acd3-f83fe54fab42"
      },
      "source": [
        "# Multiplication, division, modulo (remainder), and exponentiation\n",
        "print(3 * 5)\n",
        "print(15 / 2)\n",
        "print(15 // 2)\n",
        "print(18 % 7)\n",
        "print(4 ** 3)"
      ],
      "execution_count": null,
      "outputs": [
        {
          "output_type": "stream",
          "text": [
            "15\n",
            "7.5\n",
            "7\n",
            "4\n",
            "64\n"
          ],
          "name": "stdout"
        }
      ]
    },
    {
      "cell_type": "markdown",
      "metadata": {
        "id": "fPgnnLnrNzZQ"
      },
      "source": [
        "#Variable\r\n",
        "Variables are little boxes in your program which are useful throught the program and used to store something(data)."
      ]
    },
    {
      "cell_type": "code",
      "metadata": {
        "id": "P3yflFdxnSDu",
        "colab": {
          "base_uri": "https://localhost:8080/"
        },
        "outputId": "d102a328-58ec-4145-a0ca-307b9bbd8f02"
      },
      "source": [
        "#creating Varibales\n",
        "maths_score = 88\n",
        "print(maths_score)\n",
        "\n",
        "maths_score = 90\n",
        "print(maths_score)"
      ],
      "execution_count": null,
      "outputs": [
        {
          "output_type": "stream",
          "text": [
            "88\n",
            "90\n"
          ],
          "name": "stdout"
        }
      ]
    },
    {
      "cell_type": "markdown",
      "metadata": {
        "id": "MhD-1kuwR2SZ"
      },
      "source": [
        "#Data Types\r\n",
        "In programming, data type is an important concept.\r\n",
        "\r\n",
        "Variables can store data of different types, and different types can do different things.\r\n",
        "\r\n",
        "Python has the following data types built-in by default."
      ]
    },
    {
      "cell_type": "code",
      "metadata": {
        "colab": {
          "base_uri": "https://localhost:8080/"
        },
        "id": "l9zFZ4BNSRRS",
        "outputId": "609e3b35-dad7-411b-d2eb-ce6f0a91eb58"
      },
      "source": [
        "#Text data Type is string (str)\r\n",
        "country = \"Pakistan\"\r\n",
        "print(country)\r\n",
        "\r\n",
        "population = \"Pakistan's poulation is 212 Million\"\r\n",
        "print(population)\r\n",
        "\r\n",
        "type(country)"
      ],
      "execution_count": null,
      "outputs": [
        {
          "output_type": "stream",
          "text": [
            "Pakistan\n",
            "Pakistan's poulation is 212 Million\n"
          ],
          "name": "stdout"
        },
        {
          "output_type": "execute_result",
          "data": {
            "text/plain": [
              "str"
            ]
          },
          "metadata": {
            "tags": []
          },
          "execution_count": 27
        }
      ]
    },
    {
      "cell_type": "code",
      "metadata": {
        "colab": {
          "base_uri": "https://localhost:8080/"
        },
        "id": "FZ_4CGsRUnG1",
        "outputId": "113d3f08-e008-4d91-eb62-d3f775d3e451"
      },
      "source": [
        "#Numeric Types:\tint, float\r\n",
        "\r\n",
        "number = 23\r\n",
        "result = 44.8\r\n",
        "\r\n",
        "print(type(result))\r\n",
        "print(int(result))"
      ],
      "execution_count": null,
      "outputs": [
        {
          "output_type": "stream",
          "text": [
            "<class 'float'>\n",
            "44\n"
          ],
          "name": "stdout"
        }
      ]
    },
    {
      "cell_type": "code",
      "metadata": {
        "id": "8ARmhs6unXby",
        "colab": {
          "base_uri": "https://localhost:8080/",
          "height": 35
        },
        "outputId": "03ef3afc-f05f-4f0b-83b1-5fa4faaf0b06"
      },
      "source": [
        "# Create a variable savings\n",
        "savings = 100\n",
        "\n",
        "# Create a variable growth_multiplier\n",
        "growth_multiplier = 1.1\n",
        "\n",
        "# Calculate result\n",
        "x = savings * 1.1 ** 7\n",
        "\n",
        "# Print out result\n",
        "print(x)"
      ],
      "execution_count": null,
      "outputs": [
        {
          "output_type": "stream",
          "text": [
            "194.87171000000012\n"
          ],
          "name": "stdout"
        }
      ]
    },
    {
      "cell_type": "code",
      "metadata": {
        "id": "AO_ZkqWenq6o",
        "colab": {
          "base_uri": "https://localhost:8080/"
        },
        "outputId": "f4fe76d3-b3d3-429d-f517-019d088a3720"
      },
      "source": [
        "#boolean data type\n",
        "xyz = False\n",
        "\n",
        "#display xyz\n",
        "print(xyz)\n",
        "\n",
        "#display the data type of xyz\n",
        "print(type(xyz))\n",
        "one = bool(4==2)\n",
        "print(one)"
      ],
      "execution_count": null,
      "outputs": [
        {
          "output_type": "stream",
          "text": [
            "False\n",
            "<class 'bool'>\n",
            "False\n"
          ],
          "name": "stdout"
        }
      ]
    },
    {
      "cell_type": "code",
      "metadata": {
        "colab": {
          "base_uri": "https://localhost:8080/"
        },
        "id": "-wDL2iGUp74X",
        "outputId": "51bc1345-bb98-4a0a-cf42-e5714ce363c6"
      },
      "source": [
        "print(-5 / 2)\r\n",
        "print(-5 // 2)"
      ],
      "execution_count": null,
      "outputs": [
        {
          "output_type": "stream",
          "text": [
            "-2.5\n",
            "-3\n"
          ],
          "name": "stdout"
        }
      ]
    },
    {
      "cell_type": "code",
      "metadata": {
        "colab": {
          "base_uri": "https://localhost:8080/"
        },
        "id": "2OK2Bop0nyAp",
        "outputId": "f88e68e0-561f-407f-8365-5c750dde5941"
      },
      "source": [
        "savings = 100\n",
        "growth_multiplier = 1.1\n",
        "desc = \"compound interest\"\n",
        "\n",
        "# Assign product of growth_multiplier and savings to year1\n",
        "year1 = savings * growth_multiplier\n",
        "\n",
        "# Print the type of year1\n",
        "print(type(year1))\n",
        "\n",
        "# Assign sum of desc and desc to doubledesc\n",
        "doubledesc = desc + \" \" + desc\n",
        "\n",
        "# Print out doubledesc\n",
        "print(doubledesc)\n"
      ],
      "execution_count": null,
      "outputs": [
        {
          "output_type": "stream",
          "text": [
            "<class 'float'>\n",
            "compound interest compound interest\n"
          ],
          "name": "stdout"
        }
      ]
    },
    {
      "cell_type": "code",
      "metadata": {
        "id": "LiyNGJfXn2C3",
        "colab": {
          "base_uri": "https://localhost:8080/"
        },
        "outputId": "fe9ff91d-3ce4-42ad-bba3-9b367eac9255"
      },
      "source": [
        "# Definition of savings and result\n",
        "savings = 100\n",
        "result = 100 * 1.10 ** 7\n",
        "\n",
        "# Fix the printout\n",
        "print(\"I started with $\" + str(savings) + \" and now have $\" + str(result) + '. Awesome!')\n"
      ],
      "execution_count": null,
      "outputs": [
        {
          "output_type": "stream",
          "text": [
            "I started with $100 and now have $194.87171000000012. Awesome!\n"
          ],
          "name": "stdout"
        }
      ]
    },
    {
      "cell_type": "code",
      "metadata": {
        "id": "Amt4zKP7vpPQ"
      },
      "source": [
        "#1.2Lists in python \r\n",
        "#List: lists of lists, subset, add, slicing, replace, extend, delete"
      ],
      "execution_count": null,
      "outputs": []
    },
    {
      "cell_type": "markdown",
      "metadata": {
        "id": "Fntx5nxOg6kd"
      },
      "source": [
        "Lists are used to store multiple items in a single variable."
      ]
    },
    {
      "cell_type": "code",
      "metadata": {
        "colab": {
          "base_uri": "https://localhost:8080/"
        },
        "id": "h9sf3uQBv5Vp",
        "outputId": "3d85ae21-8331-4a20-e2ca-ca2902c145b4"
      },
      "source": [
        "# How to create a list , diff between string and int/float\r\n",
        "list1 = [12 ,13, 12.3, \"icodeguru\"]\r\n",
        "# area variables (in square meters)\r\n",
        "hall = 11.25\r\n",
        "kit = 18.0\r\n",
        "liv = 20.0\r\n",
        "bed = 10.75\r\n",
        "bath = 9.50\r\n",
        "\r\n",
        "# Create list areas\r\n",
        "areas_home = [hall, kit, liv, bed, bath, \"hall\"]\r\n",
        "# Print areas\r\n",
        "print(areas_home)"
      ],
      "execution_count": null,
      "outputs": [
        {
          "output_type": "stream",
          "text": [
            "[11.25, 18.0, 20.0, 10.75, 9.5, 'hall']\n"
          ],
          "name": "stdout"
        }
      ]
    },
    {
      "cell_type": "code",
      "metadata": {
        "colab": {
          "base_uri": "https://localhost:8080/"
        },
        "id": "Ye-KtajlwVAF",
        "outputId": "5376d3c4-cdda-4604-a344-d32b58d5bdfc"
      },
      "source": [
        "# How to create a list of lists.\r\n",
        "\r\n",
        "# area variables (in square meters)\r\n",
        "hall = 11.25\r\n",
        "kit = 18.0\r\n",
        "liv = 20.0\r\n",
        "bed = 10.75\r\n",
        "bath = 9.50\r\n",
        "\r\n",
        "\r\n",
        "# house information as list of lists\r\n",
        "house = [[\"hallway\", hall],\r\n",
        "         [\"kitchen\", kit],\r\n",
        "         [\"living room\", liv],\r\n",
        "         [\"bedroom\", bed],\r\n",
        "         [\"bathroom\", bath]]\r\n",
        "\r\n",
        "# Print out house\r\n",
        "print(house)\r\n",
        "\r\n",
        "# Print out the type of house\r\n",
        "print(type(house))"
      ],
      "execution_count": null,
      "outputs": [
        {
          "output_type": "stream",
          "text": [
            "[['hallway', 11.25], ['kitchen', 18.0], ['living room', 20.0], ['bedroom', 10.75], ['bathroom', 9.5]]\n",
            "<class 'list'>\n"
          ],
          "name": "stdout"
        }
      ]
    },
    {
      "cell_type": "code",
      "metadata": {
        "colab": {
          "base_uri": "https://localhost:8080/"
        },
        "id": "_p9HhnGGw3rf",
        "outputId": "042414fc-88e8-474d-d476-0e0bd72a3e2a"
      },
      "source": [
        " #Subsetting Python lists is a piece of cake. Take the code sample below,\r\n",
        " #Remember that this is the second element, so it has index 1 \r\n",
        "\r\n",
        "# Create the areas list\r\n",
        "areas = [\"hallway\", 11.25, \"kitchen\", 18.0, \"living room\", 20.0, \"bedroom\", 10.75, \"bathroom\", 9.50]\r\n",
        "\r\n",
        "# Print out second element from areas\r\n",
        "print(areas[1])\r\n",
        "\r\n",
        "# Print out last element from areas\r\n",
        "print(areas[8])\r\n",
        "\r\n",
        "# Print out the area of the living room\r\n",
        "print(areas[-1])\r\n"
      ],
      "execution_count": null,
      "outputs": [
        {
          "output_type": "stream",
          "text": [
            "11.25\n",
            "bathroom\n",
            "9.5\n"
          ],
          "name": "stdout"
        }
      ]
    },
    {
      "cell_type": "code",
      "metadata": {
        "colab": {
          "base_uri": "https://localhost:8080/"
        },
        "id": "wmFRZ0T0xWEb",
        "outputId": "ac892512-dc5c-4c15-dece-202eda8df108"
      },
      "source": [
        "#Adding different parts of list\r\n",
        "\r\n",
        "# Create the areas list\r\n",
        "areas = [\"hallway\", 11.25, \"kitchen\", 18.0, \"living room\", 20.0, \"bedroom\", 10.75, \"bathroom\", 9.50]\r\n",
        "\r\n",
        "# Sum of kitchen and bedroom area: eat_sleep_area\r\n",
        "eat_sleep_area = areas[0] + areas[1]\r\n",
        "\r\n",
        "#Print the variable eat_sleep_area\r\n",
        "print(eat_sleep_area)"
      ],
      "execution_count": null,
      "outputs": [
        {
          "output_type": "stream",
          "text": [
            "hallway11.25\n"
          ],
          "name": "stdout"
        }
      ]
    },
    {
      "cell_type": "code",
      "metadata": {
        "colab": {
          "base_uri": "https://localhost:8080/"
        },
        "id": "JsTdsLRGxm8e",
        "outputId": "e120e69b-3abf-4c97-8cb4-2043872cfaa3"
      },
      "source": [
        "#Slicing and dicing\r\n",
        "#Selecting single values from a list is just one part of the story. \r\n",
        "#It's also possible to slice your list, which means selecting multiple elements from your list\r\n",
        "\r\n",
        "\r\n",
        "# Create the areas list\r\n",
        "areas = [\"hallway\", 11.25, \"kitchen\", 18.0, \"living room\", 20.0, \"bedroom\", 10.75, \"bathroom\", 9.50]\r\n",
        "\r\n",
        "# Use slicing to create downstairs\r\n",
        "downstairs = areas[0:5]\r\n",
        "\r\n",
        "# Use slicing to create upstairs\r\n",
        "upstairs = areas[6:10]\r\n",
        "\r\n",
        "upstairs1 = areas[3:]\r\n",
        "upstairs3 = areas[:4]\r\n",
        "\r\n",
        "# Print out downstairs and upstairs\r\n",
        "print(downstairs)\r\n",
        "print(upstairs)\r\n",
        "print(upstairs1)\r\n",
        "print(upstairs3)"
      ],
      "execution_count": null,
      "outputs": [
        {
          "output_type": "stream",
          "text": [
            "['hallway', 11.25, 'kitchen', 18.0, 'living room']\n",
            "['bedroom', 10.75, 'bathroom', 9.5]\n",
            "[18.0, 'living room', 20.0, 'bedroom', 10.75, 'bathroom', 9.5]\n",
            "['hallway', 11.25, 'kitchen', 18.0]\n"
          ],
          "name": "stdout"
        }
      ]
    },
    {
      "cell_type": "code",
      "metadata": {
        "colab": {
          "base_uri": "https://localhost:8080/"
        },
        "id": "gDJNqFDTybAj",
        "outputId": "8935079f-31ff-4d57-9a20-f030ea6fca30"
      },
      "source": [
        "#Replace list elements\r\n",
        "#Replacing list elements is pretty easy. Simply subset the list and assign new values to the subset. \r\n",
        "#You can select single elements or you can change entire list slices at once\r\n",
        "\r\n",
        "# Create the areas list\r\n",
        "areas = [\"hallway\", 11.25, \"kitchen\", 18.0, \"living room\", 20.0, \"bedroom\", 10.75, \"bathroom\", 9.50]\r\n",
        "print(areas)\r\n",
        "\r\n",
        "# Correct the bathroom area\r\n",
        "areas[-1] = 10.50\r\n",
        "# Change \"living room\" to \"chill zone\"\r\n",
        "areas[4] = \"chill zone\"\r\n",
        "print(areas)"
      ],
      "execution_count": null,
      "outputs": [
        {
          "output_type": "stream",
          "text": [
            "['hallway', 11.25, 'kitchen', 18.0, 'living room', 20.0, 'bedroom', 10.75, 'bathroom', 9.5]\n",
            "['hallway', 11.25, 'kitchen', 18.0, 'chill zone', 20.0, 'bedroom', 10.75, 'bathroom', 10.5]\n"
          ],
          "name": "stdout"
        }
      ]
    },
    {
      "cell_type": "code",
      "metadata": {
        "colab": {
          "base_uri": "https://localhost:8080/"
        },
        "id": "st3tGwXVyvdw",
        "outputId": "bfd6e33a-372d-4636-a5df-766890265e01"
      },
      "source": [
        "# Extend a list\r\n",
        "\r\n",
        "# Create the areas list and make some changes\r\n",
        "areas = [\"hallway\", 11.25, \"kitchen\", 18.0, \"chill zone\", 20.0,\r\n",
        "         \"bedroom\", 10.75, \"bathroom\", 10.50] \r\n",
        "print(areas)\r\n",
        "# Add poolhouse data to areas, new list is areas_1\r\n",
        "areas_1 = areas + [\"poolhouse\", 24.5]\r\n",
        "\r\n",
        "# Add garage data to areas_1, new list is areas_2\r\n",
        "areas_2 = areas_1 + [\"garage\", 15.45]\r\n",
        "\r\n",
        "print(areas_1)\r\n",
        "print(areas_2)"
      ],
      "execution_count": null,
      "outputs": [
        {
          "output_type": "stream",
          "text": [
            "['hallway', 11.25, 'kitchen', 18.0, 'chill zone', 20.0, 'bedroom', 10.75, 'bathroom', 10.5]\n",
            "['hallway', 11.25, 'kitchen', 18.0, 'chill zone', 20.0, 'bedroom', 10.75, 'bathroom', 10.5, 'poolhouse', 24.5]\n",
            "['hallway', 11.25, 'kitchen', 18.0, 'chill zone', 20.0, 'bedroom', 10.75, 'bathroom', 10.5, 'poolhouse', 24.5, 'garage', 15.45]\n"
          ],
          "name": "stdout"
        }
      ]
    },
    {
      "cell_type": "code",
      "metadata": {
        "colab": {
          "base_uri": "https://localhost:8080/"
        },
        "id": "pA1Af5skzIDu",
        "outputId": "36874c1c-b700-48bf-fe20-105efac3e588"
      },
      "source": [
        "# delete list\r\n",
        "areas = [\"hallway\", 11.25, \"kitchen\", 18.0, \"living room\", 20.0, \"bedroom\", 10.75, \"bathroom\", 9.50]\r\n",
        "\r\n",
        "# Correct the bathroom area\r\n",
        "del(areas[1])\r\n",
        "del(areas[-1])\r\n",
        "print(areas)"
      ],
      "execution_count": null,
      "outputs": [
        {
          "output_type": "stream",
          "text": [
            "['hallway', 'kitchen', 18.0, 'living room', 20.0, 'bedroom', 10.75, 'bathroom']\n"
          ],
          "name": "stdout"
        }
      ]
    },
    {
      "cell_type": "code",
      "metadata": {
        "colab": {
          "base_uri": "https://localhost:8080/"
        },
        "id": "ESkaD1z7ha_A",
        "outputId": "bed2cc19-6e76-4d4c-db39-fefb85194402"
      },
      "source": [
        "print(5/2)\r\n",
        "print(5//2)\r\n",
        "\r\n",
        "print(-5/2)\r\n",
        "print(-5//2)"
      ],
      "execution_count": null,
      "outputs": [
        {
          "output_type": "stream",
          "text": [
            "2.5\n",
            "2\n",
            "-2.5\n",
            "-3\n"
          ],
          "name": "stdout"
        }
      ]
    },
    {
      "cell_type": "code",
      "metadata": {
        "id": "6NQyo9R2znYo"
      },
      "source": [
        "#1.3 Functions like max, min, ord, chr etc,type, length=len(), sorted\r\n",
        "#(descending===reverse=True, while opposite if needed), upper/lower case, index,\r\n",
        "#count, append, math functions import and use like math.p"
      ],
      "execution_count": null,
      "outputs": []
    },
    {
      "cell_type": "code",
      "metadata": {
        "colab": {
          "base_uri": "https://localhost:8080/"
        },
        "id": "xFNFXJBxrmOf",
        "outputId": "1a9ac534-6958-40c9-9eb1-8b06546c2ba5"
      },
      "source": [
        "#max() function returns the item with the highest value. \r\n",
        "#If the values are strings, an alphabetically comparison is done.\r\n",
        "\r\n",
        "#Create variables var1 , home and var2\r\n",
        "var1 = [1, 2, 3, 4, 5, 6]\r\n",
        "\r\n",
        "home = [\"car_porch\", \"lounge\", \"room\", \"drawing room\"]\r\n",
        "\r\n",
        "var2 = \"Pakistan\"\r\n",
        "\r\n",
        "#print max of above variables \r\n",
        "print(max(var1))\r\n",
        "\r\n",
        "print(max(home))\r\n",
        "\r\n",
        "print(max(var2))"
      ],
      "execution_count": null,
      "outputs": [
        {
          "output_type": "stream",
          "text": [
            "6\n",
            "room\n",
            "t\n"
          ],
          "name": "stdout"
        }
      ]
    },
    {
      "cell_type": "code",
      "metadata": {
        "colab": {
          "base_uri": "https://localhost:8080/"
        },
        "id": "ab98V4lYG4O4",
        "outputId": "54e0ddc3-7ae5-4cb8-b400-6a1bdb594c73"
      },
      "source": [
        "#ord() function \r\n",
        "print(ord('a'))\r\n",
        "print(ord('b'))"
      ],
      "execution_count": null,
      "outputs": [
        {
          "output_type": "stream",
          "text": [
            "97\n",
            "98\n"
          ],
          "name": "stdout"
        }
      ]
    },
    {
      "cell_type": "code",
      "metadata": {
        "colab": {
          "base_uri": "https://localhost:8080/"
        },
        "id": "uC3SXurvHHGl",
        "outputId": "16eba0b4-1199-41a2-e183-c9825c1c764a"
      },
      "source": [
        "#chr() function \r\n",
        "print(chr(100))\r\n",
        "print(chr(120))"
      ],
      "execution_count": null,
      "outputs": [
        {
          "output_type": "stream",
          "text": [
            "d\n",
            "x\n"
          ],
          "name": "stdout"
        }
      ]
    },
    {
      "cell_type": "code",
      "metadata": {
        "colab": {
          "base_uri": "https://localhost:8080/"
        },
        "id": "ASJKwMiX-qU8",
        "outputId": "1e60b649-b87a-4944-ef70-cdbc744617e5"
      },
      "source": [
        "#min() function returns the item with the lowest value\r\n",
        "\r\n",
        "var1 = [1, 2, 3, 4, 5, 6]\r\n",
        "\r\n",
        "home = [\"car_porch\", \"lounge\", \"room\", \"drawing room\"]\r\n",
        "\r\n",
        "var2 = \"Pakistan\"\r\n",
        "\r\n",
        "#print min of above variables \r\n",
        "print(min(var1))\r\n",
        "\r\n",
        "print(min(home))\r\n",
        "\r\n",
        "print(min(var2))"
      ],
      "execution_count": null,
      "outputs": [
        {
          "output_type": "stream",
          "text": [
            "1\n",
            "car_porch\n",
            "P\n"
          ],
          "name": "stdout"
        }
      ]
    },
    {
      "cell_type": "code",
      "metadata": {
        "colab": {
          "base_uri": "https://localhost:8080/"
        },
        "id": "fJ7CSwPk3aPK",
        "outputId": "0afebbad-8878-45f4-cb5d-272dcc4ddd5c"
      },
      "source": [
        "channel = \"Icode Guru\"\r\n",
        "print(len(channel))"
      ],
      "execution_count": null,
      "outputs": [
        {
          "output_type": "stream",
          "text": [
            "10\n"
          ],
          "name": "stdout"
        }
      ]
    },
    {
      "cell_type": "code",
      "metadata": {
        "id": "khywo9gJV9LW",
        "colab": {
          "base_uri": "https://localhost:8080/"
        },
        "outputId": "42fa2a86-6ce1-4246-8331-39f41b384fa4"
      },
      "source": [
        "# Create lists first and second\n",
        "first = [[11.25, 18.0, 20.0, 9,55], [1,20], [2,3,4]]\n",
        "new1 = sorted(first)\n",
        "print(new1)\n",
        "second = [10.75, 9.50]\n",
        "\n",
        "# Paste together first and second: full\n",
        "full = first + second\n",
        "\n",
        "# Sort full in descending order: full_sorted\n",
        "#full_sorted = sorted(full, reverse= 1)\n",
        "\n",
        "# Print out full_sorted\n",
        "#print(full)\n",
        "#print(full_sorted)\n"
      ],
      "execution_count": null,
      "outputs": [
        {
          "output_type": "stream",
          "text": [
            "[[1, 20], [2, 3, 4], [11.25, 18.0, 20.0, 9, 55]]\n"
          ],
          "name": "stdout"
        }
      ]
    },
    {
      "cell_type": "code",
      "metadata": {
        "colab": {
          "base_uri": "https://localhost:8080/"
        },
        "id": "jK5HyGnGKyIz",
        "outputId": "212ce8d4-fe5a-4ee9-b96f-cabbd7b6da1d"
      },
      "source": [
        "a = (4, 14, 3)\r\n",
        "x = sorted(a)\r\n",
        "print(x)"
      ],
      "execution_count": null,
      "outputs": [
        {
          "output_type": "stream",
          "text": [
            "[3, 4, 14]\n"
          ],
          "name": "stdout"
        }
      ]
    },
    {
      "cell_type": "code",
      "metadata": {
        "colab": {
          "base_uri": "https://localhost:8080/"
        },
        "id": "66unt1cXt6N3",
        "outputId": "21b4c212-f13f-4eed-ade9-dc7a4a2182dd"
      },
      "source": [
        "# string to experiment with: place\r\n",
        "place = \"poolhouse\"\r\n",
        "\r\n",
        "# Use upper() on place: place_up\r\n",
        "place_up = place.upper()\r\n",
        "\r\n",
        "# Print out place and place_up\r\n",
        "print(place)\r\n",
        "print(place_up)\r\n",
        "\r\n",
        "# Print out the number of o's in place\r\n",
        "print(place.count('o'))\r\n",
        "\r\n",
        "fvt_subj = \"my favourite subject is Mathematics and i love to teach Mathematics\"\r\n",
        "print(fvt_subj.count('Mathematics', 25, 70))"
      ],
      "execution_count": null,
      "outputs": [
        {
          "output_type": "stream",
          "text": [
            "poolhouse\n",
            "POOLHOUSE\n",
            "3\n",
            "1\n"
          ],
          "name": "stdout"
        }
      ]
    },
    {
      "cell_type": "code",
      "metadata": {
        "colab": {
          "base_uri": "https://localhost:8080/"
        },
        "id": "ThQj1bM_Nq6Y",
        "outputId": "7bfa8967-c9da-412a-ee43-65107f5ad568"
      },
      "source": [
        "name = \"ICODEGURU\"\r\n",
        "print(name.lower())"
      ],
      "execution_count": null,
      "outputs": [
        {
          "output_type": "stream",
          "text": [
            "icodeguru\n"
          ],
          "name": "stdout"
        }
      ]
    },
    {
      "cell_type": "code",
      "metadata": {
        "colab": {
          "base_uri": "https://localhost:8080/"
        },
        "id": "Wh4zpjwut8Is",
        "outputId": "af5e7881-85a3-49a6-e8f9-7e5308ca8382"
      },
      "source": [
        "# Create list areas\r\n",
        "areas = [11.25, 18.0, 20.0, 10.75, 9.50, 9.5, 9.500]\r\n",
        "\r\n",
        "# Print out the index of the element 20.0\r\n",
        "print(areas[2])\r\n",
        "print(areas.index(9.5))\r\n",
        "\r\n",
        "# Print out how often 9.50 appears in areas\r\n",
        "print(areas.count(9.5))"
      ],
      "execution_count": null,
      "outputs": [
        {
          "output_type": "stream",
          "text": [
            "20.0\n",
            "4\n",
            "3\n"
          ],
          "name": "stdout"
        }
      ]
    },
    {
      "cell_type": "code",
      "metadata": {
        "colab": {
          "base_uri": "https://localhost:8080/"
        },
        "id": "tInJtRBzumxa",
        "outputId": "7d1c32e7-449f-4eb4-c0fa-890a2601ed0f"
      },
      "source": [
        "# Create list areas\r\n",
        "areas = [11.25, 18.0, 20.0, 10.75, 9.50]\r\n",
        "print(areas)\r\n",
        "# Use append twice to add poolhouse and garage size\r\n",
        "areas.append(24.5)\r\n",
        "areas.append(15.45)\r\n",
        "\r\n",
        "# Print out areas\r\n",
        "print(areas)\r\n",
        "\r\n",
        "# Reverse the orders of the elements in areas\r\n",
        "areas.reverse()\r\n",
        "\r\n",
        "# Print out areas\r\n",
        "print(areas)"
      ],
      "execution_count": null,
      "outputs": [
        {
          "output_type": "stream",
          "text": [
            "[11.25, 18.0, 20.0, 10.75, 9.5]\n",
            "[11.25, 18.0, 20.0, 10.75, 9.5, 24.5, 15.45]\n",
            "[15.45, 24.5, 9.5, 10.75, 20.0, 18.0, 11.25]\n"
          ],
          "name": "stdout"
        }
      ]
    },
    {
      "cell_type": "code",
      "metadata": {
        "colab": {
          "base_uri": "https://localhost:8080/"
        },
        "id": "JMH5JKxmdIHD",
        "outputId": "625dcfa7-b853-4d45-d9d3-510967769700"
      },
      "source": [
        "# Import the math package\r\n",
        "import math\r\n",
        "\r\n",
        "print(math.pi)\r\n",
        "\r\n",
        "print(math.factorial(3))\r\n",
        "print(math.factorial(6))"
      ],
      "execution_count": null,
      "outputs": [
        {
          "output_type": "stream",
          "text": [
            "3.141592653589793\n",
            "6\n",
            "720\n"
          ],
          "name": "stdout"
        }
      ]
    },
    {
      "cell_type": "code",
      "metadata": {
        "colab": {
          "base_uri": "https://localhost:8080/"
        },
        "id": "QnpNuYahvfev",
        "outputId": "bb4c34ad-4b36-471d-e386-0382dfabd929"
      },
      "source": [
        "# Definition of radius\r\n",
        "r = 0.43\r\n",
        "\r\n",
        "# Import the math package\r\n",
        "import math\r\n",
        "\r\n",
        "# Calculate C\r\n",
        "C = 2 * r * math.pi\r\n",
        "\r\n",
        "# Calculate A\r\n",
        "A = math.pi * r ** 2\r\n",
        "\r\n",
        "# Build printout\r\n",
        "print(\"Circumference: \" + str(C))\r\n",
        "print(\"Area: \" + str(A))"
      ],
      "execution_count": null,
      "outputs": [
        {
          "output_type": "stream",
          "text": [
            "Circumference: 2.701769682087222\n",
            "Area: 0.5808804816487527\n"
          ],
          "name": "stdout"
        }
      ]
    },
    {
      "cell_type": "code",
      "metadata": {
        "colab": {
          "base_uri": "https://localhost:8080/"
        },
        "id": "i-pFmUPrvmMw",
        "outputId": "b80fce64-2674-4909-bba1-f287a10c584c"
      },
      "source": [
        "# Definition of radius\r\n",
        "r = 192500\r\n",
        "\r\n",
        "# Import radians function of math package\r\n",
        "from math import radians\r\n",
        "\r\n",
        "# Travel distance of Moon over 12 degrees. Store in dist.\r\n",
        "dist = r * radians(12)\r\n",
        "\r\n",
        "# Print out dist\r\n",
        "print(dist)"
      ],
      "execution_count": null,
      "outputs": [
        {
          "output_type": "stream",
          "text": [
            "40317.10572106901\n"
          ],
          "name": "stdout"
        }
      ]
    },
    {
      "cell_type": "code",
      "metadata": {
        "id": "DYW_oZiUvpo-"
      },
      "source": [
        "#1.4 == Numpy\r\n",
        "#NumPy is a python library used for working with arrays. \r\n",
        "#It also has functions for working in domain of linear algebra, \r\n",
        "#fourier transform, and matrices."
      ],
      "execution_count": null,
      "outputs": []
    },
    {
      "cell_type": "code",
      "metadata": {
        "id": "mUjhH0W_QEvl",
        "colab": {
          "base_uri": "https://localhost:8080/"
        },
        "outputId": "2cee7ec1-64cc-4622-9774-d6e0ff1dfaf8"
      },
      "source": [
        "# Create list baseball\r\n",
        "baseball = [180, 215, 210, 210, 188, 176, 209, 200]\r\n",
        "\r\n",
        "# Import the numpy package as np\r\n",
        "import numpy as np\r\n",
        "\r\n",
        "# Create a numpy array from baseball: np_baseball\r\n",
        "np_baseball = np.array(baseball)\r\n",
        "\r\n",
        "# Print out type of np_baseball\r\n",
        "print(type(np_baseball))"
      ],
      "execution_count": 1,
      "outputs": [
        {
          "output_type": "stream",
          "text": [
            "<class 'numpy.ndarray'>\n"
          ],
          "name": "stdout"
        }
      ]
    },
    {
      "cell_type": "code",
      "metadata": {
        "id": "FI3pDye5QLHa",
        "colab": {
          "base_uri": "https://localhost:8080/"
        },
        "outputId": "8138e91e-242e-4758-82fa-a8483c7e2ceb"
      },
      "source": [
        "# height is available as a regular list\r\n",
        "height = [1.5, 1.7, 1.83]\r\n",
        "\r\n",
        "# Import numpy\r\n",
        "import numpy as np\r\n",
        "\r\n",
        "# Create a numpy array from height_in: np_height\r\n",
        "np_height = np.array(height)\r\n",
        "\r\n",
        "# Print out np_height_in\r\n",
        "print(np_height)\r\n",
        "\r\n",
        "# Convert np_height_in to m: np_height_m\r\n",
        "np_height_m = np_height * 0.0254\r\n",
        "\r\n",
        "# Print np_height_m\r\n",
        "print(np_height_m)"
      ],
      "execution_count": 9,
      "outputs": [
        {
          "output_type": "stream",
          "text": [
            "[1.5  1.7  1.83]\n",
            "[0.0381   0.04318  0.046482]\n"
          ],
          "name": "stdout"
        }
      ]
    },
    {
      "cell_type": "code",
      "metadata": {
        "id": "QxH1pUQCQMnT",
        "colab": {
          "base_uri": "https://localhost:8080/"
        },
        "outputId": "31e9fe17-aa5d-44d3-dec1-1c59d804eb39"
      },
      "source": [
        "# height and weight are available as regular lists\r\n",
        "weight_lb = [75, 80, 90]\r\n",
        "np_weight_lb =  np.array([75, 80, 90])\r\n",
        "\r\n",
        "# Create array from height_in with metric units: np_height_m\r\n",
        "np_height_m = np.array(height) * 0.0254\r\n",
        "print(\"np_height_m is \", np_height_m)\r\n",
        "# Create array from weight_lb with metric units: np_weight_kg\r\n",
        "np_weight_kg = np_weight_lb * 0.453592\r\n",
        "print(\"np_weight_kg is \",np_weight_kg)\r\n",
        "\r\n",
        "# Calculate the BMI: bmi\r\n",
        "bmi = np_weight_kg/np_height_m**2\r\n",
        "\r\n",
        "# Print out bmi\r\n",
        "print(bmi)"
      ],
      "execution_count": 14,
      "outputs": [
        {
          "output_type": "stream",
          "text": [
            "np_height_m is  [0.0381   0.04318  0.046482]\n",
            "np_weight_kg is  [34.0194  36.28736 40.82328]\n",
            "[23435.63353793 19462.11781697 18894.62526574]\n"
          ],
          "name": "stdout"
        }
      ]
    },
    {
      "cell_type": "code",
      "metadata": {
        "id": "4UABC4OWQRlh",
        "colab": {
          "base_uri": "https://localhost:8080/"
        },
        "outputId": "fd37ba7d-2680-435d-dcf7-d15d05b20a6c"
      },
      "source": [
        "# height and weight are available as a regular lists\r\n",
        "\r\n",
        "# Import numpy\r\n",
        "import numpy as np\r\n",
        "\r\n",
        "# Calculate the BMI: bmi\r\n",
        "np_height_m = np.array(height) * 0.0254\r\n",
        "np_weight_kg = np.array(weight_lb) * 0.453592\r\n",
        "bmi = np_weight_kg / np_height_m ** 2\r\n",
        "\r\n",
        "# Create the light array\r\n",
        "light = bmi > 21\r\n",
        "\r\n",
        "# Print out light\r\n",
        "print(light)\r\n",
        "\r\n",
        "# Print out BMIs of all baseball players whose BMI is below 21\r\n",
        "print(bmi[light])"
      ],
      "execution_count": 59,
      "outputs": [
        {
          "output_type": "stream",
          "text": [
            "[ True  True  True]\n",
            "[23435.63353793 19462.11781697 18894.62526574]\n"
          ],
          "name": "stdout"
        }
      ]
    },
    {
      "cell_type": "code",
      "metadata": {
        "id": "ZkDzFziURX3F",
        "colab": {
          "base_uri": "https://localhost:8080/"
        },
        "outputId": "f9f9fd54-9748-459f-e89e-79264ed47db1"
      },
      "source": [
        "# height and weight are available as a regular lists\r\n",
        "\r\n",
        "# Import numpy\r\n",
        "import numpy as np\r\n",
        "\r\n",
        "# Store weight and height lists as numpy arrays\r\n",
        "np_weight_lb = np.array(weight_lb)\r\n",
        "np_height_in = np.array(height)\r\n",
        "\r\n",
        "# Print out the weight at index 1\r\n",
        "print(np_weight_lb[1])\r\n",
        "\r\n",
        "# Print out sub-array of np_height_in: index 100 up to and including index 110\r\n",
        "print(np_height_in[1:3])"
      ],
      "execution_count": 20,
      "outputs": [
        {
          "output_type": "stream",
          "text": [
            "80\n",
            "[1.7  1.83]\n"
          ],
          "name": "stdout"
        }
      ]
    },
    {
      "cell_type": "code",
      "metadata": {
        "colab": {
          "base_uri": "https://localhost:8080/"
        },
        "id": "bT37VgI7sGdc",
        "outputId": "3cc1fc1c-f6ea-4a2b-8db7-a3b05d67a425"
      },
      "source": [
        "# Create baseball, a list of lists\n",
        "baseball = [[180, 78.4],\n",
        "            [215, 102.7],\n",
        "            [210, 98.5],\n",
        "            [188,12]]\n",
        "\n",
        "# Import numpy\n",
        "import numpy as np\n",
        "# Create a 2D numpy array from baseball: np_baseball\n",
        "np_baseball = np.array(baseball)\n",
        "\n",
        "# Print out the type of np_baseball\n",
        "print(type(np_baseball))\n",
        "\n",
        "# Print out the shape of np_baseball\n",
        "print(np_baseball.shape)\n",
        "print(np_baseball)"
      ],
      "execution_count": 63,
      "outputs": [
        {
          "output_type": "stream",
          "text": [
            "<class 'numpy.ndarray'>\n",
            "(4, 2)\n",
            "[[180.   78.4]\n",
            " [215.  102.7]\n",
            " [210.   98.5]\n",
            " [188.   12. ]]\n"
          ],
          "name": "stdout"
        }
      ]
    },
    {
      "cell_type": "code",
      "metadata": {
        "colab": {
          "base_uri": "https://localhost:8080/"
        },
        "id": "13CMVe7ms1ca",
        "outputId": "232b4e5a-237c-4929-f570-99db2b2b6057"
      },
      "source": [
        "# baseball is available as a regular list of lists\n",
        "\n",
        "# Import numpy package\n",
        "import numpy as np\n",
        "\n",
        "# Create np_baseball (2 cols)\n",
        "np_baseball = np.array(baseball)\n",
        "print(np_baseball)\n",
        "\n",
        "# Print out the 1 row and all column of np_baseball\n",
        "print(np_baseball[1,:])\n",
        "\n",
        "# Select the entire second column of np_baseball: np_weight_lb\n",
        "np_weight_lb = np_baseball[:,1]\n",
        "print(np_weight_lb)\n",
        "\n",
        "# Print out height of 1 row and 0 column player\n",
        "print(np_baseball[3, 1])"
      ],
      "execution_count": 65,
      "outputs": [
        {
          "output_type": "stream",
          "text": [
            "[[180.   78.4]\n",
            " [215.  102.7]\n",
            " [210.   98.5]\n",
            " [188.   12. ]]\n",
            "[215.  102.7]\n",
            "[ 78.4 102.7  98.5  12. ]\n",
            "12.0\n"
          ],
          "name": "stdout"
        }
      ]
    },
    {
      "cell_type": "code",
      "metadata": {
        "colab": {
          "base_uri": "https://localhost:8080/"
        },
        "id": "Ul8gKv6Xtd2j",
        "outputId": "4b8311c4-22d7-4a22-f350-bdc5fcbe0e43"
      },
      "source": [
        "print(np_baseball)\r\n",
        "np_weight_lb = np_baseball[:,0]\r\n",
        "print(np_weight_lb)"
      ],
      "execution_count": 41,
      "outputs": [
        {
          "output_type": "stream",
          "text": [
            "[[180.   78.4]\n",
            " [215.  102.7]\n",
            " [210.   98.5]\n",
            " [188.   75.2]]\n",
            "[180. 215. 210. 188.]\n"
          ],
          "name": "stdout"
        }
      ]
    },
    {
      "cell_type": "code",
      "metadata": {
        "id": "rIu6ZTCsRygZ",
        "colab": {
          "base_uri": "https://localhost:8080/"
        },
        "outputId": "861f6288-8aea-4562-d278-4f06b5590daa"
      },
      "source": [
        "# np_baseball is available\r\n",
        "#a median is a value separating the higher half from the lower half of a data sample\r\n",
        "#1, 2, 3, 4,5 ,6 ,7 ==4 is median here\r\n",
        "# Import numpy\r\n",
        "import numpy as np\r\n",
        "\r\n",
        "# Create np_height_in from np_baseball\r\n",
        "np_height_in = np_baseball[:,0]\r\n",
        "print(np_height_in)\r\n",
        "\r\n",
        "# Print out the mean of np_height_in\r\n",
        "print(np.mean(np_height_in))\r\n",
        "\r\n",
        "# Print out the median of np_height_in\r\n",
        "print(np.median(np_height_in))"
      ],
      "execution_count": 58,
      "outputs": [
        {
          "output_type": "stream",
          "text": [
            "[180. 215. 210. 188.]\n",
            "198.25\n",
            "199.0\n"
          ],
          "name": "stdout"
        }
      ]
    },
    {
      "cell_type": "code",
      "metadata": {
        "id": "HFOWq_0eR3Ql",
        "colab": {
          "base_uri": "https://localhost:8080/"
        },
        "outputId": "751d88fc-59f3-4440-93c0-0676cc60e1e0"
      },
      "source": [
        "# np_baseball is available\r\n",
        "\r\n",
        "# Import numpy\r\n",
        "import numpy as np\r\n",
        "\r\n",
        "# Print mean height (first column)\r\n",
        "avg = np.mean(np_baseball[:,0])\r\n",
        "print(\"Average: \" + str(avg))\r\n",
        "\r\n",
        "# Print median height. '\r\n",
        "med = np.median(np_baseball[:,0])\r\n",
        "print(\"Median: \" + str(med))\r\n",
        "\r\n"
      ],
      "execution_count": 57,
      "outputs": [
        {
          "output_type": "stream",
          "text": [
            "Average: 198.25\n",
            "Median: 199.0\n"
          ],
          "name": "stdout"
        }
      ]
    },
    {
      "cell_type": "code",
      "metadata": {
        "id": "xpnlG1yAR78H",
        "colab": {
          "base_uri": "https://localhost:8080/"
        },
        "outputId": "eb17d8ef-dafa-4de0-a9a4-71867456b1d3"
      },
      "source": [
        "# heights and positions are available as lists\r\n",
        "positions = ['GK', 'M', 'A', 'D']\r\n",
        "heights = [191, 184, 185, 180,]\r\n",
        "# Import numpy\r\n",
        "import numpy as np\r\n",
        "\r\n",
        "# Convert positions and heights to numpy arrays: np_positions, np_heights\r\n",
        "np_positions = np.array(positions)\r\n",
        "np_heights = np.array(heights)\r\n",
        "\r\n",
        "# Heights of the goalkeepers: gk_heights\r\n",
        "gk_heights = np_heights[np_positions == 'M']\r\n",
        "print(gk_heights)\r\n",
        "# Heights of the other players: other_heights\r\n",
        "other_heights = np_heights[np_positions != 'GK']\r\n",
        "print(other_heights)\r\n",
        "\r\n",
        "# Print out the median height of goalkeepers. Replace 'None'\r\n",
        "print(\"Median height of goalkeepers: \" + str(np.median(gk_heights)))\r\n",
        "\r\n",
        "# Print out the median height of other players. Replace 'None'\r\n",
        "print(\"Median height of other players: \" + str(np.median(other_heights)))"
      ],
      "execution_count": 67,
      "outputs": [
        {
          "output_type": "stream",
          "text": [
            "[184]\n",
            "[184 185 180]\n",
            "Median height of goalkeepers: 184.0\n",
            "Median height of other players: 184.0\n"
          ],
          "name": "stdout"
        }
      ]
    }
  ]
}